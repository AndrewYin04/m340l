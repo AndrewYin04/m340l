{
 "cells": [
  {
   "cell_type": "code",
   "execution_count": 1,
   "metadata": {},
   "outputs": [],
   "source": [
    "import numpy as np\n",
    "from numpy import linalg\n",
    "from sympy import * \n",
    "init_printing(pretty_print=True, use_latex=True)"
   ]
  },
  {
   "cell_type": "code",
   "execution_count": 9,
   "metadata": {},
   "outputs": [
    {
     "data": {
      "text/latex": [
       "$\\displaystyle \\left[\\begin{matrix}-2 & -4 & -1 & 2 & 5\\\\5 & 3 & -2 & 2 & 0\\\\4 & 6 & -3 & 1 & -1\\\\2 & 5 & 3 & -2 & -1\\\\6 & 5 & 4 & -1 & 5\\end{matrix}\\right]$"
      ],
      "text/plain": [
       "⎡-2  -4  -1  2   5 ⎤\n",
       "⎢                  ⎥\n",
       "⎢5   3   -2  2   0 ⎥\n",
       "⎢                  ⎥\n",
       "⎢4   6   -3  1   -1⎥\n",
       "⎢                  ⎥\n",
       "⎢2   5   3   -2  -1⎥\n",
       "⎢                  ⎥\n",
       "⎣6   5   4   -1  5 ⎦"
      ]
     },
     "metadata": {},
     "output_type": "display_data"
    },
    {
     "data": {
      "text/latex": [
       "$\\displaystyle -2.59263820442601$"
      ],
      "text/plain": [
       "-2.59263820442601"
      ]
     },
     "metadata": {},
     "output_type": "display_data"
    },
    {
     "data": {
      "text/latex": [
       "$\\displaystyle 0.905255492313388$"
      ],
      "text/plain": [
       "0.905255492313388"
      ]
     },
     "metadata": {},
     "output_type": "display_data"
    },
    {
     "data": {
      "text/latex": [
       "$\\displaystyle 9.1451756237055$"
      ],
      "text/plain": [
       "9.14517562370550"
      ]
     },
     "metadata": {},
     "output_type": "display_data"
    },
    {
     "data": {
      "text/latex": [
       "$\\displaystyle -3.22889645579644 - 4.74484152519026 i$"
      ],
      "text/plain": [
       "-3.22889645579644 - 4.74484152519026⋅ⅈ"
      ]
     },
     "metadata": {},
     "output_type": "display_data"
    },
    {
     "data": {
      "text/latex": [
       "$\\displaystyle -3.22889645579644 + 4.74484152519026 i$"
      ],
      "text/plain": [
       "-3.22889645579644 + 4.74484152519026⋅ⅈ"
      ]
     },
     "metadata": {},
     "output_type": "display_data"
    },
    {
     "data": {
      "text/latex": [
       "$\\displaystyle \\left[ \\left( \\operatorname{CRootOf} {\\left(\\lambda^{5} - \\lambda^{4} - 33 \\lambda^{3} - 339 \\lambda^{2} - 447 \\lambda + 707, 0\\right)}, \\  1, \\  \\left[ \\left[\\begin{matrix}\\frac{1008701 \\operatorname{CRootOf} {\\left(\\lambda^{5} - \\lambda^{4} - 33 \\lambda^{3} - 339 \\lambda^{2} - 447 \\lambda + 707, 0\\right)}}{846903} - \\frac{3001 \\operatorname{CRootOf} {\\left(\\lambda^{5} - \\lambda^{4} - 33 \\lambda^{3} - 339 \\lambda^{2} - 447 \\lambda + 707, 0\\right)}^{4}}{846903} + \\frac{2396 \\operatorname{CRootOf} {\\left(\\lambda^{5} - \\lambda^{4} - 33 \\lambda^{3} - 339 \\lambda^{2} - 447 \\lambda + 707, 0\\right)}^{3}}{846903} + \\frac{435257}{846903} + \\frac{39067 \\operatorname{CRootOf} {\\left(\\lambda^{5} - \\lambda^{4} - 33 \\lambda^{3} - 339 \\lambda^{2} - 447 \\lambda + 707, 0\\right)}^{2}}{282301}\\\\- \\frac{103579 \\operatorname{CRootOf} {\\left(\\lambda^{5} - \\lambda^{4} - 33 \\lambda^{3} - 339 \\lambda^{2} - 447 \\lambda + 707, 0\\right)}^{2}}{846903} - \\frac{221317}{282301} - \\frac{4967 \\operatorname{CRootOf} {\\left(\\lambda^{5} - \\lambda^{4} - 33 \\lambda^{3} - 339 \\lambda^{2} - 447 \\lambda + 707, 0\\right)}^{3}}{846903} + \\frac{3040 \\operatorname{CRootOf} {\\left(\\lambda^{5} - \\lambda^{4} - 33 \\lambda^{3} - 339 \\lambda^{2} - 447 \\lambda + 707, 0\\right)}^{4}}{846903} - \\frac{863962 \\operatorname{CRootOf} {\\left(\\lambda^{5} - \\lambda^{4} - 33 \\lambda^{3} - 339 \\lambda^{2} - 447 \\lambda + 707, 0\\right)}}{846903}\\\\- \\frac{521462}{282301} - \\frac{79882 \\operatorname{CRootOf} {\\left(\\lambda^{5} - \\lambda^{4} - 33 \\lambda^{3} - 339 \\lambda^{2} - 447 \\lambda + 707, 0\\right)}^{2}}{846903} + \\frac{3430 \\operatorname{CRootOf} {\\left(\\lambda^{5} - \\lambda^{4} - 33 \\lambda^{3} - 339 \\lambda^{2} - 447 \\lambda + 707, 0\\right)}^{3}}{846903} + \\frac{1595 \\operatorname{CRootOf} {\\left(\\lambda^{5} - \\lambda^{4} - 33 \\lambda^{3} - 339 \\lambda^{2} - 447 \\lambda + 707, 0\\right)}^{4}}{846903} - \\frac{195982 \\operatorname{CRootOf} {\\left(\\lambda^{5} - \\lambda^{4} - 33 \\lambda^{3} - 339 \\lambda^{2} - 447 \\lambda + 707, 0\\right)}}{282301}\\\\- \\frac{910414}{282301} - \\frac{44739 \\operatorname{CRootOf} {\\left(\\lambda^{5} - \\lambda^{4} - 33 \\lambda^{3} - 339 \\lambda^{2} - 447 \\lambda + 707, 0\\right)}^{2}}{282301} + \\frac{1087 \\operatorname{CRootOf} {\\left(\\lambda^{5} - \\lambda^{4} - 33 \\lambda^{3} - 339 \\lambda^{2} - 447 \\lambda + 707, 0\\right)}^{3}}{282301} + \\frac{3574 \\operatorname{CRootOf} {\\left(\\lambda^{5} - \\lambda^{4} - 33 \\lambda^{3} - 339 \\lambda^{2} - 447 \\lambda + 707, 0\\right)}^{4}}{846903} - \\frac{1466291 \\operatorname{CRootOf} {\\left(\\lambda^{5} - \\lambda^{4} - 33 \\lambda^{3} - 339 \\lambda^{2} - 447 \\lambda + 707, 0\\right)}}{846903}\\\\1\\end{matrix}\\right]\\right]\\right), \\  \\left( \\operatorname{CRootOf} {\\left(\\lambda^{5} - \\lambda^{4} - 33 \\lambda^{3} - 339 \\lambda^{2} - 447 \\lambda + 707, 1\\right)}, \\  1, \\  \\left[ \\left[\\begin{matrix}- \\frac{3001 \\operatorname{CRootOf} {\\left(\\lambda^{5} - \\lambda^{4} - 33 \\lambda^{3} - 339 \\lambda^{2} - 447 \\lambda + 707, 1\\right)}^{4}}{846903} + \\frac{2396 \\operatorname{CRootOf} {\\left(\\lambda^{5} - \\lambda^{4} - 33 \\lambda^{3} - 339 \\lambda^{2} - 447 \\lambda + 707, 1\\right)}^{3}}{846903} + \\frac{39067 \\operatorname{CRootOf} {\\left(\\lambda^{5} - \\lambda^{4} - 33 \\lambda^{3} - 339 \\lambda^{2} - 447 \\lambda + 707, 1\\right)}^{2}}{282301} + \\frac{435257}{846903} + \\frac{1008701 \\operatorname{CRootOf} {\\left(\\lambda^{5} - \\lambda^{4} - 33 \\lambda^{3} - 339 \\lambda^{2} - 447 \\lambda + 707, 1\\right)}}{846903}\\\\- \\frac{863962 \\operatorname{CRootOf} {\\left(\\lambda^{5} - \\lambda^{4} - 33 \\lambda^{3} - 339 \\lambda^{2} - 447 \\lambda + 707, 1\\right)}}{846903} - \\frac{221317}{282301} - \\frac{103579 \\operatorname{CRootOf} {\\left(\\lambda^{5} - \\lambda^{4} - 33 \\lambda^{3} - 339 \\lambda^{2} - 447 \\lambda + 707, 1\\right)}^{2}}{846903} - \\frac{4967 \\operatorname{CRootOf} {\\left(\\lambda^{5} - \\lambda^{4} - 33 \\lambda^{3} - 339 \\lambda^{2} - 447 \\lambda + 707, 1\\right)}^{3}}{846903} + \\frac{3040 \\operatorname{CRootOf} {\\left(\\lambda^{5} - \\lambda^{4} - 33 \\lambda^{3} - 339 \\lambda^{2} - 447 \\lambda + 707, 1\\right)}^{4}}{846903}\\\\- \\frac{521462}{282301} - \\frac{195982 \\operatorname{CRootOf} {\\left(\\lambda^{5} - \\lambda^{4} - 33 \\lambda^{3} - 339 \\lambda^{2} - 447 \\lambda + 707, 1\\right)}}{282301} - \\frac{79882 \\operatorname{CRootOf} {\\left(\\lambda^{5} - \\lambda^{4} - 33 \\lambda^{3} - 339 \\lambda^{2} - 447 \\lambda + 707, 1\\right)}^{2}}{846903} + \\frac{1595 \\operatorname{CRootOf} {\\left(\\lambda^{5} - \\lambda^{4} - 33 \\lambda^{3} - 339 \\lambda^{2} - 447 \\lambda + 707, 1\\right)}^{4}}{846903} + \\frac{3430 \\operatorname{CRootOf} {\\left(\\lambda^{5} - \\lambda^{4} - 33 \\lambda^{3} - 339 \\lambda^{2} - 447 \\lambda + 707, 1\\right)}^{3}}{846903}\\\\- \\frac{910414}{282301} - \\frac{1466291 \\operatorname{CRootOf} {\\left(\\lambda^{5} - \\lambda^{4} - 33 \\lambda^{3} - 339 \\lambda^{2} - 447 \\lambda + 707, 1\\right)}}{846903} - \\frac{44739 \\operatorname{CRootOf} {\\left(\\lambda^{5} - \\lambda^{4} - 33 \\lambda^{3} - 339 \\lambda^{2} - 447 \\lambda + 707, 1\\right)}^{2}}{282301} + \\frac{3574 \\operatorname{CRootOf} {\\left(\\lambda^{5} - \\lambda^{4} - 33 \\lambda^{3} - 339 \\lambda^{2} - 447 \\lambda + 707, 1\\right)}^{4}}{846903} + \\frac{1087 \\operatorname{CRootOf} {\\left(\\lambda^{5} - \\lambda^{4} - 33 \\lambda^{3} - 339 \\lambda^{2} - 447 \\lambda + 707, 1\\right)}^{3}}{282301}\\\\1\\end{matrix}\\right]\\right]\\right), \\  \\left( \\operatorname{CRootOf} {\\left(\\lambda^{5} - \\lambda^{4} - 33 \\lambda^{3} - 339 \\lambda^{2} - 447 \\lambda + 707, 2\\right)}, \\  1, \\  \\left[ \\left[\\begin{matrix}- \\frac{3001 \\operatorname{CRootOf} {\\left(\\lambda^{5} - \\lambda^{4} - 33 \\lambda^{3} - 339 \\lambda^{2} - 447 \\lambda + 707, 2\\right)}^{4}}{846903} + \\frac{435257}{846903} + \\frac{2396 \\operatorname{CRootOf} {\\left(\\lambda^{5} - \\lambda^{4} - 33 \\lambda^{3} - 339 \\lambda^{2} - 447 \\lambda + 707, 2\\right)}^{3}}{846903} + \\frac{1008701 \\operatorname{CRootOf} {\\left(\\lambda^{5} - \\lambda^{4} - 33 \\lambda^{3} - 339 \\lambda^{2} - 447 \\lambda + 707, 2\\right)}}{846903} + \\frac{39067 \\operatorname{CRootOf} {\\left(\\lambda^{5} - \\lambda^{4} - 33 \\lambda^{3} - 339 \\lambda^{2} - 447 \\lambda + 707, 2\\right)}^{2}}{282301}\\\\- \\frac{103579 \\operatorname{CRootOf} {\\left(\\lambda^{5} - \\lambda^{4} - 33 \\lambda^{3} - 339 \\lambda^{2} - 447 \\lambda + 707, 2\\right)}^{2}}{846903} - \\frac{863962 \\operatorname{CRootOf} {\\left(\\lambda^{5} - \\lambda^{4} - 33 \\lambda^{3} - 339 \\lambda^{2} - 447 \\lambda + 707, 2\\right)}}{846903} - \\frac{4967 \\operatorname{CRootOf} {\\left(\\lambda^{5} - \\lambda^{4} - 33 \\lambda^{3} - 339 \\lambda^{2} - 447 \\lambda + 707, 2\\right)}^{3}}{846903} - \\frac{221317}{282301} + \\frac{3040 \\operatorname{CRootOf} {\\left(\\lambda^{5} - \\lambda^{4} - 33 \\lambda^{3} - 339 \\lambda^{2} - 447 \\lambda + 707, 2\\right)}^{4}}{846903}\\\\- \\frac{79882 \\operatorname{CRootOf} {\\left(\\lambda^{5} - \\lambda^{4} - 33 \\lambda^{3} - 339 \\lambda^{2} - 447 \\lambda + 707, 2\\right)}^{2}}{846903} - \\frac{195982 \\operatorname{CRootOf} {\\left(\\lambda^{5} - \\lambda^{4} - 33 \\lambda^{3} - 339 \\lambda^{2} - 447 \\lambda + 707, 2\\right)}}{282301} - \\frac{521462}{282301} + \\frac{3430 \\operatorname{CRootOf} {\\left(\\lambda^{5} - \\lambda^{4} - 33 \\lambda^{3} - 339 \\lambda^{2} - 447 \\lambda + 707, 2\\right)}^{3}}{846903} + \\frac{1595 \\operatorname{CRootOf} {\\left(\\lambda^{5} - \\lambda^{4} - 33 \\lambda^{3} - 339 \\lambda^{2} - 447 \\lambda + 707, 2\\right)}^{4}}{846903}\\\\- \\frac{1466291 \\operatorname{CRootOf} {\\left(\\lambda^{5} - \\lambda^{4} - 33 \\lambda^{3} - 339 \\lambda^{2} - 447 \\lambda + 707, 2\\right)}}{846903} - \\frac{44739 \\operatorname{CRootOf} {\\left(\\lambda^{5} - \\lambda^{4} - 33 \\lambda^{3} - 339 \\lambda^{2} - 447 \\lambda + 707, 2\\right)}^{2}}{282301} - \\frac{910414}{282301} + \\frac{1087 \\operatorname{CRootOf} {\\left(\\lambda^{5} - \\lambda^{4} - 33 \\lambda^{3} - 339 \\lambda^{2} - 447 \\lambda + 707, 2\\right)}^{3}}{282301} + \\frac{3574 \\operatorname{CRootOf} {\\left(\\lambda^{5} - \\lambda^{4} - 33 \\lambda^{3} - 339 \\lambda^{2} - 447 \\lambda + 707, 2\\right)}^{4}}{846903}\\\\1\\end{matrix}\\right]\\right]\\right), \\  \\left( \\operatorname{CRootOf} {\\left(\\lambda^{5} - \\lambda^{4} - 33 \\lambda^{3} - 339 \\lambda^{2} - 447 \\lambda + 707, 3\\right)}, \\  1, \\  \\left[ \\left[\\begin{matrix}\\frac{435257}{846903} + \\frac{1008701 \\operatorname{CRootOf} {\\left(\\lambda^{5} - \\lambda^{4} - 33 \\lambda^{3} - 339 \\lambda^{2} - 447 \\lambda + 707, 3\\right)}}{846903} + \\frac{2396 \\operatorname{CRootOf} {\\left(\\lambda^{5} - \\lambda^{4} - 33 \\lambda^{3} - 339 \\lambda^{2} - 447 \\lambda + 707, 3\\right)}^{3}}{846903} - \\frac{3001 \\operatorname{CRootOf} {\\left(\\lambda^{5} - \\lambda^{4} - 33 \\lambda^{3} - 339 \\lambda^{2} - 447 \\lambda + 707, 3\\right)}^{4}}{846903} + \\frac{39067 \\operatorname{CRootOf} {\\left(\\lambda^{5} - \\lambda^{4} - 33 \\lambda^{3} - 339 \\lambda^{2} - 447 \\lambda + 707, 3\\right)}^{2}}{282301}\\\\- \\frac{221317}{282301} - \\frac{103579 \\operatorname{CRootOf} {\\left(\\lambda^{5} - \\lambda^{4} - 33 \\lambda^{3} - 339 \\lambda^{2} - 447 \\lambda + 707, 3\\right)}^{2}}{846903} + \\frac{3040 \\operatorname{CRootOf} {\\left(\\lambda^{5} - \\lambda^{4} - 33 \\lambda^{3} - 339 \\lambda^{2} - 447 \\lambda + 707, 3\\right)}^{4}}{846903} - \\frac{4967 \\operatorname{CRootOf} {\\left(\\lambda^{5} - \\lambda^{4} - 33 \\lambda^{3} - 339 \\lambda^{2} - 447 \\lambda + 707, 3\\right)}^{3}}{846903} - \\frac{863962 \\operatorname{CRootOf} {\\left(\\lambda^{5} - \\lambda^{4} - 33 \\lambda^{3} - 339 \\lambda^{2} - 447 \\lambda + 707, 3\\right)}}{846903}\\\\- \\frac{521462}{282301} - \\frac{79882 \\operatorname{CRootOf} {\\left(\\lambda^{5} - \\lambda^{4} - 33 \\lambda^{3} - 339 \\lambda^{2} - 447 \\lambda + 707, 3\\right)}^{2}}{846903} + \\frac{1595 \\operatorname{CRootOf} {\\left(\\lambda^{5} - \\lambda^{4} - 33 \\lambda^{3} - 339 \\lambda^{2} - 447 \\lambda + 707, 3\\right)}^{4}}{846903} + \\frac{3430 \\operatorname{CRootOf} {\\left(\\lambda^{5} - \\lambda^{4} - 33 \\lambda^{3} - 339 \\lambda^{2} - 447 \\lambda + 707, 3\\right)}^{3}}{846903} - \\frac{195982 \\operatorname{CRootOf} {\\left(\\lambda^{5} - \\lambda^{4} - 33 \\lambda^{3} - 339 \\lambda^{2} - 447 \\lambda + 707, 3\\right)}}{282301}\\\\- \\frac{910414}{282301} - \\frac{44739 \\operatorname{CRootOf} {\\left(\\lambda^{5} - \\lambda^{4} - 33 \\lambda^{3} - 339 \\lambda^{2} - 447 \\lambda + 707, 3\\right)}^{2}}{282301} + \\frac{3574 \\operatorname{CRootOf} {\\left(\\lambda^{5} - \\lambda^{4} - 33 \\lambda^{3} - 339 \\lambda^{2} - 447 \\lambda + 707, 3\\right)}^{4}}{846903} + \\frac{1087 \\operatorname{CRootOf} {\\left(\\lambda^{5} - \\lambda^{4} - 33 \\lambda^{3} - 339 \\lambda^{2} - 447 \\lambda + 707, 3\\right)}^{3}}{282301} - \\frac{1466291 \\operatorname{CRootOf} {\\left(\\lambda^{5} - \\lambda^{4} - 33 \\lambda^{3} - 339 \\lambda^{2} - 447 \\lambda + 707, 3\\right)}}{846903}\\\\1\\end{matrix}\\right]\\right]\\right), \\  \\left( \\operatorname{CRootOf} {\\left(\\lambda^{5} - \\lambda^{4} - 33 \\lambda^{3} - 339 \\lambda^{2} - 447 \\lambda + 707, 4\\right)}, \\  1, \\  \\left[ \\left[\\begin{matrix}\\frac{435257}{846903} + \\frac{39067 \\operatorname{CRootOf} {\\left(\\lambda^{5} - \\lambda^{4} - 33 \\lambda^{3} - 339 \\lambda^{2} - 447 \\lambda + 707, 4\\right)}^{2}}{282301} - \\frac{3001 \\operatorname{CRootOf} {\\left(\\lambda^{5} - \\lambda^{4} - 33 \\lambda^{3} - 339 \\lambda^{2} - 447 \\lambda + 707, 4\\right)}^{4}}{846903} + \\frac{2396 \\operatorname{CRootOf} {\\left(\\lambda^{5} - \\lambda^{4} - 33 \\lambda^{3} - 339 \\lambda^{2} - 447 \\lambda + 707, 4\\right)}^{3}}{846903} + \\frac{1008701 \\operatorname{CRootOf} {\\left(\\lambda^{5} - \\lambda^{4} - 33 \\lambda^{3} - 339 \\lambda^{2} - 447 \\lambda + 707, 4\\right)}}{846903}\\\\- \\frac{221317}{282301} - \\frac{863962 \\operatorname{CRootOf} {\\left(\\lambda^{5} - \\lambda^{4} - 33 \\lambda^{3} - 339 \\lambda^{2} - 447 \\lambda + 707, 4\\right)}}{846903} - \\frac{4967 \\operatorname{CRootOf} {\\left(\\lambda^{5} - \\lambda^{4} - 33 \\lambda^{3} - 339 \\lambda^{2} - 447 \\lambda + 707, 4\\right)}^{3}}{846903} + \\frac{3040 \\operatorname{CRootOf} {\\left(\\lambda^{5} - \\lambda^{4} - 33 \\lambda^{3} - 339 \\lambda^{2} - 447 \\lambda + 707, 4\\right)}^{4}}{846903} - \\frac{103579 \\operatorname{CRootOf} {\\left(\\lambda^{5} - \\lambda^{4} - 33 \\lambda^{3} - 339 \\lambda^{2} - 447 \\lambda + 707, 4\\right)}^{2}}{846903}\\\\- \\frac{521462}{282301} - \\frac{195982 \\operatorname{CRootOf} {\\left(\\lambda^{5} - \\lambda^{4} - 33 \\lambda^{3} - 339 \\lambda^{2} - 447 \\lambda + 707, 4\\right)}}{282301} + \\frac{3430 \\operatorname{CRootOf} {\\left(\\lambda^{5} - \\lambda^{4} - 33 \\lambda^{3} - 339 \\lambda^{2} - 447 \\lambda + 707, 4\\right)}^{3}}{846903} + \\frac{1595 \\operatorname{CRootOf} {\\left(\\lambda^{5} - \\lambda^{4} - 33 \\lambda^{3} - 339 \\lambda^{2} - 447 \\lambda + 707, 4\\right)}^{4}}{846903} - \\frac{79882 \\operatorname{CRootOf} {\\left(\\lambda^{5} - \\lambda^{4} - 33 \\lambda^{3} - 339 \\lambda^{2} - 447 \\lambda + 707, 4\\right)}^{2}}{846903}\\\\- \\frac{910414}{282301} - \\frac{1466291 \\operatorname{CRootOf} {\\left(\\lambda^{5} - \\lambda^{4} - 33 \\lambda^{3} - 339 \\lambda^{2} - 447 \\lambda + 707, 4\\right)}}{846903} + \\frac{1087 \\operatorname{CRootOf} {\\left(\\lambda^{5} - \\lambda^{4} - 33 \\lambda^{3} - 339 \\lambda^{2} - 447 \\lambda + 707, 4\\right)}^{3}}{282301} + \\frac{3574 \\operatorname{CRootOf} {\\left(\\lambda^{5} - \\lambda^{4} - 33 \\lambda^{3} - 339 \\lambda^{2} - 447 \\lambda + 707, 4\\right)}^{4}}{846903} - \\frac{44739 \\operatorname{CRootOf} {\\left(\\lambda^{5} - \\lambda^{4} - 33 \\lambda^{3} - 339 \\lambda^{2} - 447 \\lambda + 707, 4\\right)}^{2}}{282301}\\\\1\\end{matrix}\\right]\\right]\\right)\\right]$"
      ],
      "text/plain": [
       "⎡⎛                                                       ⎡⎡                    ↪\n",
       "⎢⎜                                                       ⎢⎢                ⎛ 5 ↪\n",
       "⎢⎜                                                       ⎢⎢ 1008701⋅CRootOf⎝λ  ↪\n",
       "⎢⎜                                                       ⎢⎢ ────────────────── ↪\n",
       "⎢⎜                                                       ⎢⎢                    ↪\n",
       "⎢⎜                                                       ⎢⎢                    ↪\n",
       "⎢⎜                                                       ⎢⎢                    ↪\n",
       "⎢⎜                                                       ⎢⎢                ⎛ 5 ↪\n",
       "⎢⎜                                                       ⎢⎢  103579⋅CRootOf⎝λ  ↪\n",
       "⎢⎜                                                       ⎢⎢- ───────────────── ↪\n",
       "⎢⎜                                                       ⎢⎢                    ↪\n",
       "⎢⎜       ⎛ 5    4       3        2                 ⎞     ⎢⎢                    ↪\n",
       "⎢⎜CRootOf⎝λ  - λ  - 33⋅λ  - 339⋅λ  - 447⋅λ + 707, 0⎠, 1, ⎢⎢                    ↪\n",
       "⎢⎜                                                       ⎢⎢                    ↪\n",
       "⎢⎜                                                       ⎢⎢  521462   79882⋅CR ↪\n",
       "⎢⎜                                                       ⎢⎢- ────── - ──────── ↪\n",
       "⎢⎜                                                       ⎢⎢  282301            ↪\n",
       "⎢⎜                                                       ⎢⎢                    ↪\n",
       "⎢⎜                                                       ⎢⎢                    ↪\n",
       "⎢⎜                                                       ⎢⎢                    ↪\n",
       "⎢⎜                                                       ⎢⎢  910414   44739⋅CR ↪\n",
       "⎢⎜                                                       ⎢⎢- ────── - ──────── ↪\n",
       "⎢⎜                                                       ⎢⎢  282301            ↪\n",
       "⎢⎜                                                       ⎢⎢                    ↪\n",
       "⎣⎝                                                       ⎣⎣                    ↪\n",
       "\n",
       "↪                                                                              ↪\n",
       "↪     4       3        2                 ⎞               ⎛ 5    4       3      ↪\n",
       "↪  - λ  - 33⋅λ  - 339⋅λ  - 447⋅λ + 707, 0⎠   3001⋅CRootOf⎝λ  - λ  - 33⋅λ  - 33 ↪\n",
       "↪ ──────────────────────────────────────── - ───────────────────────────────── ↪\n",
       "↪         846903                                                      846903   ↪\n",
       "↪                                                                              ↪\n",
       "↪                                         2                                    ↪\n",
       "↪     4       3        2                 ⎞                         ⎛ 5    4    ↪\n",
       "↪  - λ  - 33⋅λ  - 339⋅λ  - 447⋅λ + 707, 0⎠    221317   4967⋅CRootOf⎝λ  - λ  -  ↪\n",
       "↪ ───────────────────────────────────────── - ────── - ─────────────────────── ↪\n",
       "↪          846903                             282301                           ↪\n",
       "↪                                                                              ↪\n",
       "↪                                                 2                            ↪\n",
       "↪      ⎛ 5    4       3        2                 ⎞                ⎛ 5    4     ↪\n",
       "↪ ootOf⎝λ  - λ  - 33⋅λ  - 339⋅λ  - 447⋅λ + 707, 0⎠    3430⋅CRootOf⎝λ  - λ  - 3 ↪\n",
       "↪ ───────────────────────────────────────────────── + ──────────────────────── ↪\n",
       "↪                  846903                                                      ↪\n",
       "↪                                                                              ↪\n",
       "↪                                                 2                            ↪\n",
       "↪      ⎛ 5    4       3        2                 ⎞                ⎛ 5    4     ↪\n",
       "↪ ootOf⎝λ  - λ  - 33⋅λ  - 339⋅λ  - 447⋅λ + 707, 0⎠    1087⋅CRootOf⎝λ  - λ  - 3 ↪\n",
       "↪ ───────────────────────────────────────────────── + ──────────────────────── ↪\n",
       "↪                  282301                                                      ↪\n",
       "↪                                                                              ↪\n",
       "↪                                                                              ↪\n",
       "\n",
       "↪                       4                                                      ↪\n",
       "↪    2                 ⎞                ⎛ 5    4       3        2              ↪\n",
       "↪ 9⋅λ  - 447⋅λ + 707, 0⎠    2396⋅CRootOf⎝λ  - λ  - 33⋅λ  - 339⋅λ  - 447⋅λ + 70 ↪\n",
       "↪ ─────────────────────── + ────────────────────────────────────────────────── ↪\n",
       "↪                                                    846903                    ↪\n",
       "↪                                                                              ↪\n",
       "↪                                 3                                            ↪\n",
       "↪     3        2                 ⎞                ⎛ 5    4       3        2    ↪\n",
       "↪ 33⋅λ  - 339⋅λ  - 447⋅λ + 707, 0⎠    3040⋅CRootOf⎝λ  - λ  - 33⋅λ  - 339⋅λ  -  ↪\n",
       "↪ ───────────────────────────────── + ──────────────────────────────────────── ↪\n",
       "↪   846903                                                     846903          ↪\n",
       "↪                                                                              ↪\n",
       "↪                                3                                             ↪\n",
       "↪    3        2                 ⎞                ⎛ 5    4       3        2     ↪\n",
       "↪ 3⋅λ  - 339⋅λ  - 447⋅λ + 707, 0⎠    1595⋅CRootOf⎝λ  - λ  - 33⋅λ  - 339⋅λ  - 4 ↪\n",
       "↪ ──────────────────────────────── + ───────────────────────────────────────── ↪\n",
       "↪  846903                                                     846903           ↪\n",
       "↪                                                                              ↪\n",
       "↪                                3                                             ↪\n",
       "↪    3        2                 ⎞                ⎛ 5    4       3        2     ↪\n",
       "↪ 3⋅λ  - 339⋅λ  - 447⋅λ + 707, 0⎠    3574⋅CRootOf⎝λ  - λ  - 33⋅λ  - 339⋅λ  - 4 ↪\n",
       "↪ ──────────────────────────────── + ───────────────────────────────────────── ↪\n",
       "↪  282301                                                     846903           ↪\n",
       "↪                                                                              ↪\n",
       "↪                             1                                                ↪\n",
       "\n",
       "↪      3                                                                    2  ↪\n",
       "↪     ⎞                          ⎛ 5    4       3        2                 ⎞   ↪\n",
       "↪ 7, 0⎠    435257   39067⋅CRootOf⎝λ  - λ  - 33⋅λ  - 339⋅λ  - 447⋅λ + 707, 0⎠   ↪\n",
       "↪ ────── + ────── + ─────────────────────────────────────────────────────────  ↪\n",
       "↪          846903                            282301                            ↪\n",
       "↪                                                                              ↪\n",
       "↪                4                                                             ↪\n",
       "↪               ⎞                  ⎛ 5    4       3        2                 ⎞ ↪\n",
       "↪ 447⋅λ + 707, 0⎠    863962⋅CRootOf⎝λ  - λ  - 33⋅λ  - 339⋅λ  - 447⋅λ + 707, 0⎠ ↪\n",
       "↪ ──────────────── - ───────────────────────────────────────────────────────── ↪\n",
       "↪                                             846903                           ↪\n",
       "↪                                                                              ↪\n",
       "↪               4                                                              ↪\n",
       "↪              ⎞                  ⎛ 5    4       3        2                 ⎞  ↪\n",
       "↪ 47⋅λ + 707, 0⎠    195982⋅CRootOf⎝λ  - λ  - 33⋅λ  - 339⋅λ  - 447⋅λ + 707, 0⎠  ↪\n",
       "↪ ─────────────── - ─────────────────────────────────────────────────────────  ↪\n",
       "↪                                            282301                            ↪\n",
       "↪                                                                              ↪\n",
       "↪               4                                                              ↪\n",
       "↪              ⎞                   ⎛ 5    4       3        2                 ⎞ ↪\n",
       "↪ 47⋅λ + 707, 0⎠    1466291⋅CRootOf⎝λ  - λ  - 33⋅λ  - 339⋅λ  - 447⋅λ + 707, 0⎠ ↪\n",
       "↪ ─────────────── - ────────────────────────────────────────────────────────── ↪\n",
       "↪                                             846903                           ↪\n",
       "↪                                                                              ↪\n",
       "↪                                                                              ↪\n",
       "\n",
       "↪ ⎤⎤⎞  ⎛                                                       ⎡⎡              ↪\n",
       "↪ ⎥⎥⎟  ⎜                                                       ⎢⎢              ↪\n",
       "↪ ⎥⎥⎟  ⎜                                                       ⎢⎢  3001⋅CRootO ↪\n",
       "↪ ⎥⎥⎟  ⎜                                                       ⎢⎢- ─────────── ↪\n",
       "↪ ⎥⎥⎟  ⎜                                                       ⎢⎢              ↪\n",
       "↪ ⎥⎥⎟  ⎜                                                       ⎢⎢              ↪\n",
       "↪ ⎥⎥⎟  ⎜                                                       ⎢⎢              ↪\n",
       "↪ ⎥⎥⎟  ⎜                                                       ⎢⎢              ↪\n",
       "↪ ⎥⎥⎟  ⎜                                                       ⎢⎢  863962⋅CRoo ↪\n",
       "↪ ⎥⎥⎟  ⎜                                                       ⎢⎢- ─────────── ↪\n",
       "↪ ⎥⎥⎟  ⎜                                                       ⎢⎢              ↪\n",
       "↪ ⎥⎥⎟  ⎜       ⎛ 5    4       3        2                 ⎞     ⎢⎢              ↪\n",
       "↪ ⎥⎥⎟, ⎜CRootOf⎝λ  - λ  - 33⋅λ  - 339⋅λ  - 447⋅λ + 707, 1⎠, 1, ⎢⎢              ↪\n",
       "↪ ⎥⎥⎟  ⎜                                                       ⎢⎢              ↪\n",
       "↪ ⎥⎥⎟  ⎜                                                       ⎢⎢  521462   19 ↪\n",
       "↪ ⎥⎥⎟  ⎜                                                       ⎢⎢- ────── - ── ↪\n",
       "↪ ⎥⎥⎟  ⎜                                                       ⎢⎢  282301      ↪\n",
       "↪ ⎥⎥⎟  ⎜                                                       ⎢⎢              ↪\n",
       "↪ ⎥⎥⎟  ⎜                                                       ⎢⎢              ↪\n",
       "↪ ⎥⎥⎟  ⎜                                                       ⎢⎢              ↪\n",
       "↪ ⎥⎥⎟  ⎜                                                       ⎢⎢  910414   14 ↪\n",
       "↪ ⎥⎥⎟  ⎜                                                       ⎢⎢- ────── - ── ↪\n",
       "↪ ⎥⎥⎟  ⎜                                                       ⎢⎢  282301      ↪\n",
       "↪ ⎥⎥⎟  ⎜                                                       ⎢⎢              ↪\n",
       "↪ ⎦⎦⎠  ⎝                                                       ⎣⎣              ↪\n",
       "\n",
       "↪                                             4                                ↪\n",
       "↪  ⎛ 5    4       3        2                 ⎞                ⎛ 5    4       3 ↪\n",
       "↪ f⎝λ  - λ  - 33⋅λ  - 339⋅λ  - 447⋅λ + 707, 1⎠    2396⋅CRootOf⎝λ  - λ  - 33⋅λ  ↪\n",
       "↪ ───────────────────────────────────────────── + ──────────────────────────── ↪\n",
       "↪               846903                                                     846 ↪\n",
       "↪                                                                              ↪\n",
       "↪                                                                              ↪\n",
       "↪    ⎛ 5    4       3        2                 ⎞                          ⎛ 5  ↪\n",
       "↪ tOf⎝λ  - λ  - 33⋅λ  - 339⋅λ  - 447⋅λ + 707, 1⎠   221317   103579⋅CRootOf⎝λ   ↪\n",
       "↪ ────────────────────────────────────────────── - ────── - ────────────────── ↪\n",
       "↪               846903                             282301                      ↪\n",
       "↪                                                                              ↪\n",
       "↪                                                                              ↪\n",
       "↪             ⎛ 5    4       3        2                 ⎞                ⎛ 5   ↪\n",
       "↪ 5982⋅CRootOf⎝λ  - λ  - 33⋅λ  - 339⋅λ  - 447⋅λ + 707, 1⎠   79882⋅CRootOf⎝λ  - ↪\n",
       "↪ ─────────────────────────────────────────────────────── - ────────────────── ↪\n",
       "↪                        282301                                                ↪\n",
       "↪                                                                              ↪\n",
       "↪                                                                              ↪\n",
       "↪              ⎛ 5    4       3        2                 ⎞                ⎛ 5  ↪\n",
       "↪ 66291⋅CRootOf⎝λ  - λ  - 33⋅λ  - 339⋅λ  - 447⋅λ + 707, 1⎠   44739⋅CRootOf⎝λ   ↪\n",
       "↪ ──────────────────────────────────────────────────────── - ───────────────── ↪\n",
       "↪                         846903                                               ↪\n",
       "↪                                                                              ↪\n",
       "↪                                                                              ↪\n",
       "\n",
       "↪                            3                                                 ↪\n",
       "↪         2                 ⎞                 ⎛ 5    4       3        2        ↪\n",
       "↪  - 339⋅λ  - 447⋅λ + 707, 1⎠    39067⋅CRootOf⎝λ  - λ  - 33⋅λ  - 339⋅λ  - 447⋅ ↪\n",
       "↪ ──────────────────────────── + ───────────────────────────────────────────── ↪\n",
       "↪ 903                                                     282301               ↪\n",
       "↪                                                                              ↪\n",
       "↪                                        2                                     ↪\n",
       "↪    4       3        2                 ⎞                ⎛ 5    4       3      ↪\n",
       "↪ - λ  - 33⋅λ  - 339⋅λ  - 447⋅λ + 707, 1⎠    4967⋅CRootOf⎝λ  - λ  - 33⋅λ  - 33 ↪\n",
       "↪ ──────────────────────────────────────── - ───────────────────────────────── ↪\n",
       "↪         846903                                                      846903   ↪\n",
       "↪                                                                              ↪\n",
       "↪                                       2                                      ↪\n",
       "↪   4       3        2                 ⎞                ⎛ 5    4       3       ↪\n",
       "↪  λ  - 33⋅λ  - 339⋅λ  - 447⋅λ + 707, 1⎠    1595⋅CRootOf⎝λ  - λ  - 33⋅λ  - 339 ↪\n",
       "↪ ─────────────────────────────────────── + ────────────────────────────────── ↪\n",
       "↪        846903                                                      846903    ↪\n",
       "↪                                                                              ↪\n",
       "↪                                        2                                     ↪\n",
       "↪    4       3        2                 ⎞                ⎛ 5    4       3      ↪\n",
       "↪ - λ  - 33⋅λ  - 339⋅λ  - 447⋅λ + 707, 1⎠    3574⋅CRootOf⎝λ  - λ  - 33⋅λ  - 33 ↪\n",
       "↪ ──────────────────────────────────────── + ───────────────────────────────── ↪\n",
       "↪         282301                                                      846903   ↪\n",
       "↪                                                                              ↪\n",
       "↪                                   1                                          ↪\n",
       "\n",
       "↪            2                                                                 ↪\n",
       "↪           ⎞                            ⎛ 5    4       3        2             ↪\n",
       "↪ λ + 707, 1⎠    435257   1008701⋅CRootOf⎝λ  - λ  - 33⋅λ  - 339⋅λ  - 447⋅λ + 7 ↪\n",
       "↪ ──────────── + ────── + ──────────────────────────────────────────────────── ↪\n",
       "↪                846903                             846903                     ↪\n",
       "↪                                                                              ↪\n",
       "↪                       3                                                      ↪\n",
       "↪    2                 ⎞                ⎛ 5    4       3        2              ↪\n",
       "↪ 9⋅λ  - 447⋅λ + 707, 1⎠    3040⋅CRootOf⎝λ  - λ  - 33⋅λ  - 339⋅λ  - 447⋅λ + 70 ↪\n",
       "↪ ─────────────────────── + ────────────────────────────────────────────────── ↪\n",
       "↪                                                    846903                    ↪\n",
       "↪                                                                              ↪\n",
       "↪                      4                                                       ↪\n",
       "↪   2                 ⎞                ⎛ 5    4       3        2               ↪\n",
       "↪ ⋅λ  - 447⋅λ + 707, 1⎠    3430⋅CRootOf⎝λ  - λ  - 33⋅λ  - 339⋅λ  - 447⋅λ + 707 ↪\n",
       "↪ ────────────────────── + ─────────────────────────────────────────────────── ↪\n",
       "↪                                                   846903                     ↪\n",
       "↪                                                                              ↪\n",
       "↪                       4                                                      ↪\n",
       "↪    2                 ⎞                ⎛ 5    4       3        2              ↪\n",
       "↪ 9⋅λ  - 447⋅λ + 707, 1⎠    1087⋅CRootOf⎝λ  - λ  - 33⋅λ  - 339⋅λ  - 447⋅λ + 70 ↪\n",
       "↪ ─────────────────────── + ────────────────────────────────────────────────── ↪\n",
       "↪                                                    282301                    ↪\n",
       "↪                                                                              ↪\n",
       "↪                                                                              ↪\n",
       "\n",
       "↪       ⎤⎤⎞  ⎛                                                       ⎡⎡        ↪\n",
       "↪      ⎞⎥⎥⎟  ⎜                                                       ⎢⎢        ↪\n",
       "↪ 07, 1⎠⎥⎥⎟  ⎜                                                       ⎢⎢  3001⋅ ↪\n",
       "↪ ──────⎥⎥⎟  ⎜                                                       ⎢⎢- ───── ↪\n",
       "↪       ⎥⎥⎟  ⎜                                                       ⎢⎢        ↪\n",
       "↪       ⎥⎥⎟  ⎜                                                       ⎢⎢        ↪\n",
       "↪      4⎥⎥⎟  ⎜                                                       ⎢⎢        ↪\n",
       "↪     ⎞ ⎥⎥⎟  ⎜                                                       ⎢⎢        ↪\n",
       "↪ 7, 1⎠ ⎥⎥⎟  ⎜                                                       ⎢⎢  10357 ↪\n",
       "↪ ──────⎥⎥⎟  ⎜                                                       ⎢⎢- ───── ↪\n",
       "↪       ⎥⎥⎟  ⎜                                                       ⎢⎢        ↪\n",
       "↪       ⎥⎥⎟  ⎜       ⎛ 5    4       3        2                 ⎞     ⎢⎢        ↪\n",
       "↪     3 ⎥⎥⎟, ⎜CRootOf⎝λ  - λ  - 33⋅λ  - 339⋅λ  - 447⋅λ + 707, 2⎠, 1, ⎢⎢        ↪\n",
       "↪    ⎞  ⎥⎥⎟  ⎜                                                       ⎢⎢        ↪\n",
       "↪ , 1⎠  ⎥⎥⎟  ⎜                                                       ⎢⎢  79882 ↪\n",
       "↪ ───── ⎥⎥⎟  ⎜                                                       ⎢⎢- ───── ↪\n",
       "↪       ⎥⎥⎟  ⎜                                                       ⎢⎢        ↪\n",
       "↪       ⎥⎥⎟  ⎜                                                       ⎢⎢        ↪\n",
       "↪      3⎥⎥⎟  ⎜                                                       ⎢⎢        ↪\n",
       "↪     ⎞ ⎥⎥⎟  ⎜                                                       ⎢⎢        ↪\n",
       "↪ 7, 1⎠ ⎥⎥⎟  ⎜                                                       ⎢⎢  14662 ↪\n",
       "↪ ──────⎥⎥⎟  ⎜                                                       ⎢⎢- ───── ↪\n",
       "↪       ⎥⎥⎟  ⎜                                                       ⎢⎢        ↪\n",
       "↪       ⎥⎥⎟  ⎜                                                       ⎢⎢        ↪\n",
       "↪       ⎦⎦⎠  ⎝                                                       ⎣⎣        ↪\n",
       "\n",
       "↪                                                   4                          ↪\n",
       "↪        ⎛ 5    4       3        2                 ⎞                         ⎛ ↪\n",
       "↪ CRootOf⎝λ  - λ  - 33⋅λ  - 339⋅λ  - 447⋅λ + 707, 2⎠    435257   2396⋅CRootOf⎝ ↪\n",
       "↪ ─────────────────────────────────────────────────── + ────── + ───────────── ↪\n",
       "↪                     846903                            846903                 ↪\n",
       "↪                                                                              ↪\n",
       "↪                                                     2                        ↪\n",
       "↪          ⎛ 5    4       3        2                 ⎞                  ⎛ 5    ↪\n",
       "↪ 9⋅CRootOf⎝λ  - λ  - 33⋅λ  - 339⋅λ  - 447⋅λ + 707, 2⎠    863962⋅CRootOf⎝λ  -  ↪\n",
       "↪ ───────────────────────────────────────────────────── - ──────────────────── ↪\n",
       "↪                      846903                                                  ↪\n",
       "↪                                                                              ↪\n",
       "↪                                                    2                         ↪\n",
       "↪         ⎛ 5    4       3        2                 ⎞                  ⎛ 5     ↪\n",
       "↪ ⋅CRootOf⎝λ  - λ  - 33⋅λ  - 339⋅λ  - 447⋅λ + 707, 2⎠    195982⋅CRootOf⎝λ  - λ ↪\n",
       "↪ ──────────────────────────────────────────────────── - ───────────────────── ↪\n",
       "↪                     846903                                                   ↪\n",
       "↪                                                                              ↪\n",
       "↪                                                                              ↪\n",
       "↪           ⎛ 5    4       3        2                 ⎞                ⎛ 5     ↪\n",
       "↪ 91⋅CRootOf⎝λ  - λ  - 33⋅λ  - 339⋅λ  - 447⋅λ + 707, 2⎠   44739⋅CRootOf⎝λ  - λ ↪\n",
       "↪ ───────────────────────────────────────────────────── - ──────────────────── ↪\n",
       "↪                      846903                                                  ↪\n",
       "↪                                                                              ↪\n",
       "↪                                                                              ↪\n",
       "\n",
       "↪                                           3                                  ↪\n",
       "↪  5    4       3        2                 ⎞                   ⎛ 5    4        ↪\n",
       "↪ λ  - λ  - 33⋅λ  - 339⋅λ  - 447⋅λ + 707, 2⎠    1008701⋅CRootOf⎝λ  - λ  - 33⋅λ ↪\n",
       "↪ ─────────────────────────────────────────── + ────────────────────────────── ↪\n",
       "↪             846903                                                      8469 ↪\n",
       "↪                                                                              ↪\n",
       "↪                                                                              ↪\n",
       "↪  4       3        2                 ⎞               ⎛ 5    4       3         ↪\n",
       "↪ λ  - 33⋅λ  - 339⋅λ  - 447⋅λ + 707, 2⎠   4967⋅CRootOf⎝λ  - λ  - 33⋅λ  - 339⋅λ ↪\n",
       "↪ ───────────────────────────────────── - ──────────────────────────────────── ↪\n",
       "↪      846903                                                      846903      ↪\n",
       "↪                                                                              ↪\n",
       "↪                                                                              ↪\n",
       "↪ 4       3        2                 ⎞                        ⎛ 5    4       3 ↪\n",
       "↪   - 33⋅λ  - 339⋅λ  - 447⋅λ + 707, 2⎠   521462   3430⋅CRootOf⎝λ  - λ  - 33⋅λ  ↪\n",
       "↪ ──────────────────────────────────── - ────── + ──────────────────────────── ↪\n",
       "↪     282301                             282301                            846 ↪\n",
       "↪                                                                              ↪\n",
       "↪                                     2                                        ↪\n",
       "↪ 4       3        2                 ⎞                         ⎛ 5    4        ↪\n",
       "↪   - 33⋅λ  - 339⋅λ  - 447⋅λ + 707, 2⎠    910414   1087⋅CRootOf⎝λ  - λ  - 33⋅λ ↪\n",
       "↪ ───────────────────────────────────── - ────── + ─────────────────────────── ↪\n",
       "↪      282301                             282301                            28 ↪\n",
       "↪                                                                              ↪\n",
       "↪                                         1                                    ↪\n",
       "\n",
       "↪                                                                              ↪\n",
       "↪ 3        2                 ⎞                ⎛ 5    4       3        2        ↪\n",
       "↪   - 339⋅λ  - 447⋅λ + 707, 2⎠   39067⋅CRootOf⎝λ  - λ  - 33⋅λ  - 339⋅λ  - 447⋅ ↪\n",
       "↪ ──────────────────────────── + ───────────────────────────────────────────── ↪\n",
       "↪ 03                                                      282301               ↪\n",
       "↪                                                                              ↪\n",
       "↪                    3                                                         ↪\n",
       "↪ 2                 ⎞                         ⎛ 5    4       3        2        ↪\n",
       "↪   - 447⋅λ + 707, 2⎠    221317   3040⋅CRootOf⎝λ  - λ  - 33⋅λ  - 339⋅λ  - 447⋅ ↪\n",
       "↪ ──────────────────── - ────── + ──────────────────────────────────────────── ↪\n",
       "↪                        282301                            846903              ↪\n",
       "↪                                                                              ↪\n",
       "↪                            3                                                 ↪\n",
       "↪         2                 ⎞                ⎛ 5    4       3        2         ↪\n",
       "↪  - 339⋅λ  - 447⋅λ + 707, 2⎠    1595⋅CRootOf⎝λ  - λ  - 33⋅λ  - 339⋅λ  - 447⋅λ ↪\n",
       "↪ ──────────────────────────── + ───────────────────────────────────────────── ↪\n",
       "↪ 903                                                     846903               ↪\n",
       "↪                                                                              ↪\n",
       "↪                             3                                                ↪\n",
       "↪ 3        2                 ⎞                ⎛ 5    4       3        2        ↪\n",
       "↪   - 339⋅λ  - 447⋅λ + 707, 2⎠    3574⋅CRootOf⎝λ  - λ  - 33⋅λ  - 339⋅λ  - 447⋅ ↪\n",
       "↪ ───────────────────────────── + ──────────────────────────────────────────── ↪\n",
       "↪ 2301                                                     846903              ↪\n",
       "↪                                                                              ↪\n",
       "↪                                                                              ↪\n",
       "\n",
       "↪            2⎤⎤⎞  ⎛                                                       ⎡⎡  ↪\n",
       "↪           ⎞ ⎥⎥⎟  ⎜                                                       ⎢⎢  ↪\n",
       "↪ λ + 707, 2⎠ ⎥⎥⎟  ⎜                                                       ⎢⎢  ↪\n",
       "↪ ────────────⎥⎥⎟  ⎜                                                       ⎢⎢  ↪\n",
       "↪             ⎥⎥⎟  ⎜                                                       ⎢⎢  ↪\n",
       "↪             ⎥⎥⎟  ⎜                                                       ⎢⎢  ↪\n",
       "↪            4⎥⎥⎟  ⎜                                                       ⎢⎢  ↪\n",
       "↪           ⎞ ⎥⎥⎟  ⎜                                                       ⎢⎢  ↪\n",
       "↪ λ + 707, 2⎠ ⎥⎥⎟  ⎜                                                       ⎢⎢  ↪\n",
       "↪ ────────────⎥⎥⎟  ⎜                                                       ⎢⎢- ↪\n",
       "↪             ⎥⎥⎟  ⎜                                                       ⎢⎢  ↪\n",
       "↪             ⎥⎥⎟  ⎜       ⎛ 5    4       3        2                 ⎞     ⎢⎢  ↪\n",
       "↪           4 ⎥⎥⎟, ⎜CRootOf⎝λ  - λ  - 33⋅λ  - 339⋅λ  - 447⋅λ + 707, 3⎠, 1, ⎢⎢  ↪\n",
       "↪          ⎞  ⎥⎥⎟  ⎜                                                       ⎢⎢  ↪\n",
       "↪  + 707, 2⎠  ⎥⎥⎟  ⎜                                                       ⎢⎢  ↪\n",
       "↪ ─────────── ⎥⎥⎟  ⎜                                                       ⎢⎢- ↪\n",
       "↪             ⎥⎥⎟  ⎜                                                       ⎢⎢  ↪\n",
       "↪             ⎥⎥⎟  ⎜                                                       ⎢⎢  ↪\n",
       "↪            4⎥⎥⎟  ⎜                                                       ⎢⎢  ↪\n",
       "↪           ⎞ ⎥⎥⎟  ⎜                                                       ⎢⎢  ↪\n",
       "↪ λ + 707, 2⎠ ⎥⎥⎟  ⎜                                                       ⎢⎢  ↪\n",
       "↪ ────────────⎥⎥⎟  ⎜                                                       ⎢⎢- ↪\n",
       "↪             ⎥⎥⎟  ⎜                                                       ⎢⎢  ↪\n",
       "↪             ⎥⎥⎟  ⎜                                                       ⎢⎢  ↪\n",
       "↪             ⎦⎦⎠  ⎝                                                       ⎣⎣  ↪\n",
       "\n",
       "↪                                                                              ↪\n",
       "↪                         ⎛ 5    4       3        2                 ⎞          ↪\n",
       "↪ 435257   1008701⋅CRootOf⎝λ  - λ  - 33⋅λ  - 339⋅λ  - 447⋅λ + 707, 3⎠   2396⋅C ↪\n",
       "↪ ────── + ────────────────────────────────────────────────────────── + ────── ↪\n",
       "↪ 846903                             846903                                    ↪\n",
       "↪                                                                              ↪\n",
       "↪                                                                    2         ↪\n",
       "↪                         ⎛ 5    4       3        2                 ⎞          ↪\n",
       "↪  221317   103579⋅CRootOf⎝λ  - λ  - 33⋅λ  - 339⋅λ  - 447⋅λ + 707, 3⎠    3040⋅ ↪\n",
       "↪  ────── - ────────────────────────────────────────────────────────── + ───── ↪\n",
       "↪  282301                             846903                                   ↪\n",
       "↪                                                                              ↪\n",
       "↪                                                                   2          ↪\n",
       "↪                        ⎛ 5    4       3        2                 ⎞           ↪\n",
       "↪  521462   79882⋅CRootOf⎝λ  - λ  - 33⋅λ  - 339⋅λ  - 447⋅λ + 707, 3⎠    1595⋅C ↪\n",
       "↪  ────── - ───────────────────────────────────────────────────────── + ────── ↪\n",
       "↪  282301                            846903                                    ↪\n",
       "↪                                                                              ↪\n",
       "↪                                                                   2          ↪\n",
       "↪                        ⎛ 5    4       3        2                 ⎞           ↪\n",
       "↪  910414   44739⋅CRootOf⎝λ  - λ  - 33⋅λ  - 339⋅λ  - 447⋅λ + 707, 3⎠    3574⋅C ↪\n",
       "↪  ────── - ───────────────────────────────────────────────────────── + ────── ↪\n",
       "↪  282301                            282301                                    ↪\n",
       "↪                                                                              ↪\n",
       "↪                                                                              ↪\n",
       "\n",
       "↪                                                  3                           ↪\n",
       "↪       ⎛ 5    4       3        2                 ⎞                ⎛ 5    4    ↪\n",
       "↪ RootOf⎝λ  - λ  - 33⋅λ  - 339⋅λ  - 447⋅λ + 707, 3⎠    3001⋅CRootOf⎝λ  - λ  -  ↪\n",
       "↪ ────────────────────────────────────────────────── - ─────────────────────── ↪\n",
       "↪                    846903                                                    ↪\n",
       "↪                                                                              ↪\n",
       "↪                                                   4                          ↪\n",
       "↪        ⎛ 5    4       3        2                 ⎞                ⎛ 5    4   ↪\n",
       "↪ CRootOf⎝λ  - λ  - 33⋅λ  - 339⋅λ  - 447⋅λ + 707, 3⎠    4967⋅CRootOf⎝λ  - λ  - ↪\n",
       "↪ ─────────────────────────────────────────────────── - ────────────────────── ↪\n",
       "↪                     846903                                                   ↪\n",
       "↪                                                                              ↪\n",
       "↪                                                  4                           ↪\n",
       "↪       ⎛ 5    4       3        2                 ⎞                ⎛ 5    4    ↪\n",
       "↪ RootOf⎝λ  - λ  - 33⋅λ  - 339⋅λ  - 447⋅λ + 707, 3⎠    3430⋅CRootOf⎝λ  - λ  -  ↪\n",
       "↪ ────────────────────────────────────────────────── + ─────────────────────── ↪\n",
       "↪                    846903                                                    ↪\n",
       "↪                                                                              ↪\n",
       "↪                                                  4                           ↪\n",
       "↪       ⎛ 5    4       3        2                 ⎞                ⎛ 5    4    ↪\n",
       "↪ RootOf⎝λ  - λ  - 33⋅λ  - 339⋅λ  - 447⋅λ + 707, 3⎠    1087⋅CRootOf⎝λ  - λ  -  ↪\n",
       "↪ ────────────────────────────────────────────────── + ─────────────────────── ↪\n",
       "↪                    846903                                                    ↪\n",
       "↪                                                                              ↪\n",
       "↪                                               1                              ↪\n",
       "\n",
       "↪                                 4                                            ↪\n",
       "↪     3        2                 ⎞                 ⎛ 5    4       3        2   ↪\n",
       "↪ 33⋅λ  - 339⋅λ  - 447⋅λ + 707, 3⎠    39067⋅CRootOf⎝λ  - λ  - 33⋅λ  - 339⋅λ  - ↪\n",
       "↪ ───────────────────────────────── + ──────────────────────────────────────── ↪\n",
       "↪   846903                                                     282301          ↪\n",
       "↪                                                                              ↪\n",
       "↪                                  3                                           ↪\n",
       "↪      3        2                 ⎞                  ⎛ 5    4       3        2 ↪\n",
       "↪  33⋅λ  - 339⋅λ  - 447⋅λ + 707, 3⎠    863962⋅CRootOf⎝λ  - λ  - 33⋅λ  - 339⋅λ  ↪\n",
       "↪ ────────────────────────────────── - ─────────────────────────────────────── ↪\n",
       "↪    846903                                                     846903         ↪\n",
       "↪                                                                              ↪\n",
       "↪                                 3                                            ↪\n",
       "↪     3        2                 ⎞                  ⎛ 5    4       3        2  ↪\n",
       "↪ 33⋅λ  - 339⋅λ  - 447⋅λ + 707, 3⎠    195982⋅CRootOf⎝λ  - λ  - 33⋅λ  - 339⋅λ   ↪\n",
       "↪ ───────────────────────────────── - ──────────────────────────────────────── ↪\n",
       "↪   846903                                                     282301          ↪\n",
       "↪                                                                              ↪\n",
       "↪                                 3                                            ↪\n",
       "↪     3        2                 ⎞                   ⎛ 5    4       3        2 ↪\n",
       "↪ 33⋅λ  - 339⋅λ  - 447⋅λ + 707, 3⎠    1466291⋅CRootOf⎝λ  - λ  - 33⋅λ  - 339⋅λ  ↪\n",
       "↪ ───────────────────────────────── - ──────────────────────────────────────── ↪\n",
       "↪   282301                                                      846903         ↪\n",
       "↪                                                                              ↪\n",
       "↪                                                                              ↪\n",
       "\n",
       "↪                 2 ⎤⎤⎞  ⎛                                                     ↪\n",
       "↪                ⎞  ⎥⎥⎟  ⎜                                                     ↪\n",
       "↪  447⋅λ + 707, 3⎠  ⎥⎥⎟  ⎜                                                     ↪\n",
       "↪ ───────────────── ⎥⎥⎟  ⎜                                                     ↪\n",
       "↪                   ⎥⎥⎟  ⎜                                                     ↪\n",
       "↪                   ⎥⎥⎟  ⎜                                                     ↪\n",
       "↪                   ⎥⎥⎟  ⎜                                                     ↪\n",
       "↪                  ⎞⎥⎥⎟  ⎜                                                     ↪\n",
       "↪  - 447⋅λ + 707, 3⎠⎥⎥⎟  ⎜                                                     ↪\n",
       "↪ ──────────────────⎥⎥⎟  ⎜                                                     ↪\n",
       "↪                   ⎥⎥⎟  ⎜                                                     ↪\n",
       "↪                   ⎥⎥⎟  ⎜       ⎛ 5    4       3        2                 ⎞   ↪\n",
       "↪                   ⎥⎥⎟, ⎜CRootOf⎝λ  - λ  - 33⋅λ  - 339⋅λ  - 447⋅λ + 707, 4⎠,  ↪\n",
       "↪                 ⎞ ⎥⎥⎟  ⎜                                                     ↪\n",
       "↪ - 447⋅λ + 707, 3⎠ ⎥⎥⎟  ⎜                                                     ↪\n",
       "↪ ───────────────── ⎥⎥⎟  ⎜                                                     ↪\n",
       "↪                   ⎥⎥⎟  ⎜                                                     ↪\n",
       "↪                   ⎥⎥⎟  ⎜                                                     ↪\n",
       "↪                   ⎥⎥⎟  ⎜                                                     ↪\n",
       "↪                  ⎞⎥⎥⎟  ⎜                                                     ↪\n",
       "↪  - 447⋅λ + 707, 3⎠⎥⎥⎟  ⎜                                                     ↪\n",
       "↪ ──────────────────⎥⎥⎟  ⎜                                                     ↪\n",
       "↪                   ⎥⎥⎟  ⎜                                                     ↪\n",
       "↪                   ⎥⎥⎟  ⎜                                                     ↪\n",
       "↪                   ⎦⎦⎠  ⎝                                                     ↪\n",
       "\n",
       "↪    ⎡⎡                                                                  2     ↪\n",
       "↪    ⎢⎢                       ⎛ 5    4       3        2                 ⎞      ↪\n",
       "↪    ⎢⎢ 435257   39067⋅CRootOf⎝λ  - λ  - 33⋅λ  - 339⋅λ  - 447⋅λ + 707, 4⎠    3 ↪\n",
       "↪    ⎢⎢ ────── + ───────────────────────────────────────────────────────── - ─ ↪\n",
       "↪    ⎢⎢ 846903                            282301                               ↪\n",
       "↪    ⎢⎢                                                                        ↪\n",
       "↪    ⎢⎢                                                                        ↪\n",
       "↪    ⎢⎢                         ⎛ 5    4       3        2                 ⎞    ↪\n",
       "↪    ⎢⎢  221317   863962⋅CRootOf⎝λ  - λ  - 33⋅λ  - 339⋅λ  - 447⋅λ + 707, 4⎠    ↪\n",
       "↪    ⎢⎢- ────── - ───────────────────────────────────────────────────────── -  ↪\n",
       "↪    ⎢⎢  282301                            846903                              ↪\n",
       "↪    ⎢⎢                                                                        ↪\n",
       "↪ 1, ⎢⎢                                                                        ↪\n",
       "↪    ⎢⎢                         ⎛ 5    4       3        2                 ⎞    ↪\n",
       "↪    ⎢⎢  521462   195982⋅CRootOf⎝λ  - λ  - 33⋅λ  - 339⋅λ  - 447⋅λ + 707, 4⎠    ↪\n",
       "↪    ⎢⎢- ────── - ───────────────────────────────────────────────────────── +  ↪\n",
       "↪    ⎢⎢  282301                            282301                              ↪\n",
       "↪    ⎢⎢                                                                        ↪\n",
       "↪    ⎢⎢                                                                        ↪\n",
       "↪    ⎢⎢                          ⎛ 5    4       3        2                 ⎞   ↪\n",
       "↪    ⎢⎢  910414   1466291⋅CRootOf⎝λ  - λ  - 33⋅λ  - 339⋅λ  - 447⋅λ + 707, 4⎠   ↪\n",
       "↪    ⎢⎢- ────── - ────────────────────────────────────────────────────────── + ↪\n",
       "↪    ⎢⎢  282301                             846903                             ↪\n",
       "↪    ⎢⎢                                                                        ↪\n",
       "↪    ⎣⎣                                                                        ↪\n",
       "\n",
       "↪                                                       4                      ↪\n",
       "↪            ⎛ 5    4       3        2                 ⎞                ⎛ 5    ↪\n",
       "↪ 001⋅CRootOf⎝λ  - λ  - 33⋅λ  - 339⋅λ  - 447⋅λ + 707, 4⎠    2396⋅CRootOf⎝λ  -  ↪\n",
       "↪ ─────────────────────────────────────────────────────── + ────────────────── ↪\n",
       "↪                         846903                                               ↪\n",
       "↪                                                                              ↪\n",
       "↪                                                        3                     ↪\n",
       "↪             ⎛ 5    4       3        2                 ⎞                ⎛ 5   ↪\n",
       "↪ 4967⋅CRootOf⎝λ  - λ  - 33⋅λ  - 339⋅λ  - 447⋅λ + 707, 4⎠    3040⋅CRootOf⎝λ  - ↪\n",
       "↪ ──────────────────────────────────────────────────────── + ───────────────── ↪\n",
       "↪                          846903                                              ↪\n",
       "↪                                                                              ↪\n",
       "↪                                                        3                     ↪\n",
       "↪             ⎛ 5    4       3        2                 ⎞                ⎛ 5   ↪\n",
       "↪ 3430⋅CRootOf⎝λ  - λ  - 33⋅λ  - 339⋅λ  - 447⋅λ + 707, 4⎠    1595⋅CRootOf⎝λ  - ↪\n",
       "↪ ──────────────────────────────────────────────────────── + ───────────────── ↪\n",
       "↪                          846903                                              ↪\n",
       "↪                                                                              ↪\n",
       "↪                                                         3                    ↪\n",
       "↪              ⎛ 5    4       3        2                 ⎞                ⎛ 5  ↪\n",
       "↪  1087⋅CRootOf⎝λ  - λ  - 33⋅λ  - 339⋅λ  - 447⋅λ + 707, 4⎠    3574⋅CRootOf⎝λ   ↪\n",
       "↪  ──────────────────────────────────────────────────────── + ──────────────── ↪\n",
       "↪                           282301                                             ↪\n",
       "↪                                                                              ↪\n",
       "↪                                                     1                        ↪\n",
       "\n",
       "↪                                      3                                       ↪\n",
       "↪  4       3        2                 ⎞                   ⎛ 5    4       3     ↪\n",
       "↪ λ  - 33⋅λ  - 339⋅λ  - 447⋅λ + 707, 4⎠    1008701⋅CRootOf⎝λ  - λ  - 33⋅λ  - 3 ↪\n",
       "↪ ────────────────────────────────────── + ─────────────────────────────────── ↪\n",
       "↪        846903                                                      846903    ↪\n",
       "↪                                                                              ↪\n",
       "↪                                       4                                      ↪\n",
       "↪   4       3        2                 ⎞                  ⎛ 5    4       3     ↪\n",
       "↪  λ  - 33⋅λ  - 339⋅λ  - 447⋅λ + 707, 4⎠    103579⋅CRootOf⎝λ  - λ  - 33⋅λ  - 3 ↪\n",
       "↪ ─────────────────────────────────────── - ────────────────────────────────── ↪\n",
       "↪         846903                                                      846903   ↪\n",
       "↪                                                                              ↪\n",
       "↪                                       4                                      ↪\n",
       "↪   4       3        2                 ⎞                 ⎛ 5    4       3      ↪\n",
       "↪  λ  - 33⋅λ  - 339⋅λ  - 447⋅λ + 707, 4⎠    79882⋅CRootOf⎝λ  - λ  - 33⋅λ  - 33 ↪\n",
       "↪ ─────────────────────────────────────── - ────────────────────────────────── ↪\n",
       "↪         846903                                                     846903    ↪\n",
       "↪                                                                              ↪\n",
       "↪                                        4                                     ↪\n",
       "↪    4       3        2                 ⎞                 ⎛ 5    4       3     ↪\n",
       "↪ - λ  - 33⋅λ  - 339⋅λ  - 447⋅λ + 707, 4⎠    44739⋅CRootOf⎝λ  - λ  - 33⋅λ  - 3 ↪\n",
       "↪ ──────────────────────────────────────── - ───────────────────────────────── ↪\n",
       "↪          846903                                                     282301   ↪\n",
       "↪                                                                              ↪\n",
       "↪                                                                              ↪\n",
       "\n",
       "↪                         ⎤⎤⎞⎤\n",
       "↪     2                 ⎞ ⎥⎥⎟⎥\n",
       "↪ 39⋅λ  - 447⋅λ + 707, 4⎠ ⎥⎥⎟⎥\n",
       "↪ ─────────────────────── ⎥⎥⎟⎥\n",
       "↪                         ⎥⎥⎟⎥\n",
       "↪                         ⎥⎥⎟⎥\n",
       "↪                        2⎥⎥⎟⎥\n",
       "↪     2                 ⎞ ⎥⎥⎟⎥\n",
       "↪ 39⋅λ  - 447⋅λ + 707, 4⎠ ⎥⎥⎟⎥\n",
       "↪ ────────────────────────⎥⎥⎟⎥\n",
       "↪                         ⎥⎥⎟⎥\n",
       "↪                         ⎥⎥⎟⎥\n",
       "↪                       2 ⎥⎥⎟⎥\n",
       "↪    2                 ⎞  ⎥⎥⎟⎥\n",
       "↪ 9⋅λ  - 447⋅λ + 707, 4⎠  ⎥⎥⎟⎥\n",
       "↪ ─────────────────────── ⎥⎥⎟⎥\n",
       "↪                         ⎥⎥⎟⎥\n",
       "↪                         ⎥⎥⎟⎥\n",
       "↪                        2⎥⎥⎟⎥\n",
       "↪     2                 ⎞ ⎥⎥⎟⎥\n",
       "↪ 39⋅λ  - 447⋅λ + 707, 4⎠ ⎥⎥⎟⎥\n",
       "↪ ────────────────────────⎥⎥⎟⎥\n",
       "↪                         ⎥⎥⎟⎥\n",
       "↪                         ⎥⎥⎟⎥\n",
       "↪                         ⎦⎦⎠⎦"
      ]
     },
     "metadata": {},
     "output_type": "display_data"
    }
   ],
   "source": [
    "# n=3\n",
    "#A = Matrix(n,n,[-1,2,2,-1,-4,-2,-3,9,7])\n",
    "# A = Matrix(n,n,[3.2,-2.5,5.9,-1.5,2.2,-3.9,-2.1,2.1,-4.4])\n",
    "n=5\n",
    "A = Matrix(n,n,[-2,-4,-1,2,5,5,3,-2,2,0,4,6,-3,1,-1,2,5,3,-2,-1,6,5,4,-1,5])\n",
    "#A = Matrix(n,n,[5.0,0,-2,0,6,0,5,-2,2,0,5,-5,4,4,4,2,6,-5,-6,0,1,-5,1,-2,2])\n",
    "# A = randMatrix(n,n,-6,6)\n",
    "display(A)\n",
    "L=A.eigenvects()\n",
    "for i in range (0,n):\n",
    "    display(L[i][0].evalf())\n",
    "display(L)"
   ]
  },
  {
   "cell_type": "code",
   "execution_count": 10,
   "metadata": {},
   "outputs": [
    {
     "data": {
      "text/latex": [
       "$\\displaystyle 6.0$"
      ],
      "text/plain": [
       "6.00000000000000"
      ]
     },
     "metadata": {},
     "output_type": "display_data"
    },
    {
     "data": {
      "text/latex": [
       "$\\displaystyle \\left[\\begin{matrix}-0.333333333333333\\\\0.833333333333333\\\\0.666666666666667\\\\0.333333333333333\\\\1.0\\end{matrix}\\right]$"
      ],
      "text/plain": [
       "⎡-0.333333333333333⎤\n",
       "⎢                  ⎥\n",
       "⎢0.833333333333333 ⎥\n",
       "⎢                  ⎥\n",
       "⎢0.666666666666667 ⎥\n",
       "⎢                  ⎥\n",
       "⎢0.333333333333333 ⎥\n",
       "⎢                  ⎥\n",
       "⎣       1.0        ⎦"
      ]
     },
     "metadata": {},
     "output_type": "display_data"
    },
    {
     "data": {
      "text/latex": [
       "$\\displaystyle 9.5$"
      ],
      "text/plain": [
       "9.50000000000000"
      ]
     },
     "metadata": {},
     "output_type": "display_data"
    },
    {
     "data": {
      "text/latex": [
       "$\\displaystyle \\left[\\begin{matrix}0.245614035087719\\\\0.0175438596491228\\\\0.105263157894737\\\\0.403508771929824\\\\1.0\\end{matrix}\\right]$"
      ],
      "text/plain": [
       "⎡0.245614035087719 ⎤\n",
       "⎢                  ⎥\n",
       "⎢0.0175438596491228⎥\n",
       "⎢                  ⎥\n",
       "⎢0.105263157894737 ⎥\n",
       "⎢                  ⎥\n",
       "⎢0.403508771929824 ⎥\n",
       "⎢                  ⎥\n",
       "⎣       1.0        ⎦"
      ]
     },
     "metadata": {},
     "output_type": "display_data"
    },
    {
     "data": {
      "text/latex": [
       "$\\displaystyle 6.57894736842105$"
      ],
      "text/plain": [
       "6.57894736842105"
      ]
     },
     "metadata": {},
     "output_type": "display_data"
    },
    {
     "data": {
      "text/latex": [
       "$\\displaystyle \\left[\\begin{matrix}0.781333333333333\\\\0.285333333333333\\\\0.0266666666666667\\\\-0.138666666666667\\\\1.0\\end{matrix}\\right]$"
      ],
      "text/plain": [
       "⎡0.781333333333333 ⎤\n",
       "⎢                  ⎥\n",
       "⎢0.285333333333333 ⎥\n",
       "⎢                  ⎥\n",
       "⎢0.0266666666666667⎥\n",
       "⎢                  ⎥\n",
       "⎢-0.138666666666667⎥\n",
       "⎢                  ⎥\n",
       "⎣       1.0        ⎦"
      ]
     },
     "metadata": {},
     "output_type": "display_data"
    },
    {
     "data": {
      "text/latex": [
       "$\\displaystyle 11.36$"
      ],
      "text/plain": [
       "11.3600000000000"
      ]
     },
     "metadata": {},
     "output_type": "display_data"
    },
    {
     "data": {
      "text/latex": [
       "$\\displaystyle \\left[\\begin{matrix}0.175352112676056\\\\0.390140845070423\\\\0.318544600938967\\\\0.206572769953052\\\\1.0\\end{matrix}\\right]$"
      ],
      "text/plain": [
       "⎡0.175352112676056⎤\n",
       "⎢                 ⎥\n",
       "⎢0.390140845070423⎥\n",
       "⎢                 ⎥\n",
       "⎢0.318544600938967⎥\n",
       "⎢                 ⎥\n",
       "⎢0.206572769953052⎥\n",
       "⎢                 ⎥\n",
       "⎣       1.0       ⎦"
      ]
     },
     "metadata": {},
     "output_type": "display_data"
    },
    {
     "data": {
      "text/latex": [
       "$\\displaystyle 9.07042253521127$"
      ],
      "text/plain": [
       "9.07042253521127"
      ]
     },
     "metadata": {},
     "output_type": "display_data"
    },
    {
     "data": {
      "text/latex": [
       "$\\displaystyle \\left[\\begin{matrix}0.350957556935818\\\\0.201009316770186\\\\0.142572463768116\\\\0.203286749482402\\\\1.0\\end{matrix}\\right]$"
      ],
      "text/plain": [
       "⎡0.350957556935818⎤\n",
       "⎢                 ⎥\n",
       "⎢0.201009316770186⎥\n",
       "⎢                 ⎥\n",
       "⎢0.142572463768116⎥\n",
       "⎢                 ⎥\n",
       "⎢0.203286749482402⎥\n",
       "⎢                 ⎥\n",
       "⎣       1.0       ⎦"
      ]
     },
     "metadata": {},
     "output_type": "display_data"
    },
    {
     "data": {
      "text/latex": [
       "$\\displaystyle 8.4777950310559$"
      ],
      "text/plain": [
       "8.47779503105590"
      ]
     },
     "metadata": {},
     "output_type": "display_data"
    },
    {
     "data": {
      "text/latex": [
       "$\\displaystyle \\left[\\begin{matrix}0.443281376876629\\\\0.292439755542124\\\\0.163421677625755\\\\0.0858838397714161\\\\1.0\\end{matrix}\\right]$"
      ],
      "text/plain": [
       "⎡0.443281376876629 ⎤\n",
       "⎢                  ⎥\n",
       "⎢0.292439755542124 ⎥\n",
       "⎢                  ⎥\n",
       "⎢0.163421677625755 ⎥\n",
       "⎢                  ⎥\n",
       "⎢0.0858838397714161⎥\n",
       "⎢                  ⎥\n",
       "⎣       1.0        ⎦"
      ]
     },
     "metadata": {},
     "output_type": "display_data"
    },
    {
     "data": {
      "text/latex": [
       "$\\displaystyle 9.689689909702$"
      ],
      "text/plain": [
       "9.68968990970200"
      ]
     },
     "metadata": {},
     "output_type": "display_data"
    },
    {
     "data": {
      "text/latex": [
       "$\\displaystyle \\left[\\begin{matrix}0.304656212273578\\\\0.303276008075187\\\\0.219138369487689\\\\0.172065246704018\\\\1.0\\end{matrix}\\right]$"
      ],
      "text/plain": [
       "⎡0.304656212273578⎤\n",
       "⎢                 ⎥\n",
       "⎢0.303276008075187⎥\n",
       "⎢                 ⎥\n",
       "⎢0.219138369487689⎥\n",
       "⎢                 ⎥\n",
       "⎢0.172065246704018⎥\n",
       "⎢                 ⎥\n",
       "⎣       1.0       ⎦"
      ]
     },
     "metadata": {},
     "output_type": "display_data"
    },
    {
     "data": {
      "text/latex": [
       "$\\displaystyle 9.04880554526414$"
      ],
      "text/plain": [
       "9.04880554526414"
      ]
     },
     "metadata": {},
     "output_type": "display_data"
    },
    {
     "data": {
      "text/latex": [
       "$\\displaystyle \\left[\\begin{matrix}0.36497365873896\\\\0.258483048212949\\\\0.171617240310699\\\\0.159023980875712\\\\1.0\\end{matrix}\\right]$"
      ],
      "text/plain": [
       "⎡0.36497365873896 ⎤\n",
       "⎢                 ⎥\n",
       "⎢0.258483048212949⎥\n",
       "⎢                 ⎥\n",
       "⎢0.171617240310699⎥\n",
       "⎢                 ⎥\n",
       "⎢0.159023980875712⎥\n",
       "⎢                 ⎥\n",
       "⎣       1.0       ⎦"
      ]
     },
     "metadata": {},
     "output_type": "display_data"
    },
    {
     "data": {
      "text/latex": [
       "$\\displaystyle 9.00970217386559$"
      ],
      "text/plain": [
       "9.00970217386559"
      ]
     },
     "metadata": {},
     "output_type": "display_data"
    },
    {
     "data": {
      "text/latex": [
       "$\\displaystyle \\left[\\begin{matrix}0.375434298030712\\\\0.285817540887572\\\\0.18368700232708\\\\0.135317049797691\\\\1.0\\end{matrix}\\right]$"
      ],
      "text/plain": [
       "⎡0.375434298030712⎤\n",
       "⎢                 ⎥\n",
       "⎢0.285817540887572⎥\n",
       "⎢                 ⎥\n",
       "⎢0.18368700232708 ⎥\n",
       "⎢                 ⎥\n",
       "⎢0.135317049797691⎥\n",
       "⎢                 ⎥\n",
       "⎣       1.0       ⎦"
      ]
     },
     "metadata": {},
     "output_type": "display_data"
    },
    {
     "data": {
      "text/latex": [
       "$\\displaystyle 9.28112445213276$"
      ],
      "text/plain": [
       "9.28112445213276"
      ]
     },
     "metadata": {},
     "output_type": "display_data"
    },
    {
     "data": {
      "text/latex": [
       "$\\displaystyle \\left[\\begin{matrix}0.344010938989499\\\\0.284220324957643\\\\0.194038824665355\\\\0.157349814175754\\\\1.0\\end{matrix}\\right]$"
      ],
      "text/plain": [
       "⎡0.344010938989499⎤\n",
       "⎢                 ⎥\n",
       "⎢0.284220324957643⎥\n",
       "⎢                 ⎥\n",
       "⎢0.194038824665355⎥\n",
       "⎢                 ⎥\n",
       "⎢0.157349814175754⎥\n",
       "⎢                 ⎥\n",
       "⎣       1.0       ⎦"
      ]
     },
     "metadata": {},
     "output_type": "display_data"
    }
   ],
   "source": [
    "# Power Method\n",
    "xzero=zeros(n,1)\n",
    "xzero[0]=1.0\n",
    "xn=xzero\n",
    "for i in range (0,10):\n",
    "    xn=A*xn\n",
    "    #display(xn) #This is to confirm I'm grabbing the correct entry in the upcoming for loop\n",
    "    evalest=xn[0]\n",
    "    #This for loop is how Lay extracts the estimated eigenvalue\n",
    "    for i in range (0,n):\n",
    "        if abs(xn[i])>abs(evalest):\n",
    "            evalest=xn[i]\n",
    "    xn=xn/evalest # normalize\n",
    "    display(evalest) #These next two lines allow you to display the iterates as you go.  Delete for speed.\n",
    "    display(xn)\n",
    "#display(xn)\n",
    "#display(evalest)"
   ]
  },
  {
   "cell_type": "code",
   "execution_count": 13,
   "metadata": {},
   "outputs": [
    {
     "data": {
      "text/latex": [
       "$\\displaystyle \\left[\\begin{matrix}1.0\\\\-0.780373831775701\\\\0.406542056074766\\\\0.247663551401869\\\\-0.434579439252336\\end{matrix}\\right]$"
      ],
      "text/plain": [
       "⎡       1.0        ⎤\n",
       "⎢                  ⎥\n",
       "⎢-0.780373831775701⎥\n",
       "⎢                  ⎥\n",
       "⎢0.406542056074766 ⎥\n",
       "⎢                  ⎥\n",
       "⎢0.247663551401869 ⎥\n",
       "⎢                  ⎥\n",
       "⎣-0.434579439252336⎦"
      ]
     },
     "metadata": {},
     "output_type": "display_data"
    },
    {
     "data": {
      "text/latex": [
       "$\\displaystyle -0.962616822429907$"
      ],
      "text/plain": [
       "-0.962616822429907"
      ]
     },
     "metadata": {},
     "output_type": "display_data"
    },
    {
     "data": {
      "text/latex": [
       "$\\displaystyle \\left[\\begin{matrix}1.0\\\\-0.708576160422541\\\\0.408356832729063\\\\-0.128870686182355\\\\-0.550114139922116\\end{matrix}\\right]$"
      ],
      "text/plain": [
       "⎡       1.0        ⎤\n",
       "⎢                  ⎥\n",
       "⎢-0.708576160422541⎥\n",
       "⎢                  ⎥\n",
       "⎢0.408356832729063 ⎥\n",
       "⎢                  ⎥\n",
       "⎢-0.128870686182355⎥\n",
       "⎢                  ⎥\n",
       "⎣-0.550114139922116⎦"
      ]
     },
     "metadata": {},
     "output_type": "display_data"
    },
    {
     "data": {
      "text/latex": [
       "$\\displaystyle -2.58236426301419$"
      ],
      "text/plain": [
       "-2.58236426301419"
      ]
     },
     "metadata": {},
     "output_type": "display_data"
    },
    {
     "data": {
      "text/latex": [
       "$\\displaystyle \\left[\\begin{matrix}1.0\\\\-0.701491780757157\\\\0.362534494961441\\\\-0.172076547609687\\\\-0.541339923328095\\end{matrix}\\right]$"
      ],
      "text/plain": [
       "⎡       1.0        ⎤\n",
       "⎢                  ⎥\n",
       "⎢-0.701491780757157⎥\n",
       "⎢                  ⎥\n",
       "⎢0.362534494961441 ⎥\n",
       "⎢                  ⎥\n",
       "⎢-0.172076547609687⎥\n",
       "⎢                  ⎥\n",
       "⎣-0.541339923328095⎦"
      ]
     },
     "metadata": {},
     "output_type": "display_data"
    },
    {
     "data": {
      "text/latex": [
       "$\\displaystyle -2.60742008379267$"
      ],
      "text/plain": [
       "-2.60742008379267"
      ]
     },
     "metadata": {},
     "output_type": "display_data"
    },
    {
     "data": {
      "text/latex": [
       "$\\displaystyle \\left[\\begin{matrix}1.0\\\\-0.703096053232273\\\\0.359797121458841\\\\-0.173619673108722\\\\-0.539697274604036\\end{matrix}\\right]$"
      ],
      "text/plain": [
       "⎡       1.0        ⎤\n",
       "⎢                  ⎥\n",
       "⎢-0.703096053232273⎥\n",
       "⎢                  ⎥\n",
       "⎢0.359797121458841 ⎥\n",
       "⎢                  ⎥\n",
       "⎢-0.173619673108722⎥\n",
       "⎢                  ⎥\n",
       "⎣-0.539697274604036⎦"
      ]
     },
     "metadata": {},
     "output_type": "display_data"
    },
    {
     "data": {
      "text/latex": [
       "$\\displaystyle -2.59313862776737$"
      ],
      "text/plain": [
       "-2.59313862776737"
      ]
     },
     "metadata": {},
     "output_type": "display_data"
    },
    {
     "data": {
      "text/latex": [
       "$\\displaystyle \\left[\\begin{matrix}1.0\\\\-0.703209356643885\\\\0.35982399852575\\\\-0.173771659313451\\\\-0.539612280030145\\end{matrix}\\right]$"
      ],
      "text/plain": [
       "⎡       1.0        ⎤\n",
       "⎢                  ⎥\n",
       "⎢-0.703209356643885⎥\n",
       "⎢                  ⎥\n",
       "⎢ 0.35982399852575 ⎥\n",
       "⎢                  ⎥\n",
       "⎢-0.173771659313451⎥\n",
       "⎢                  ⎥\n",
       "⎣-0.539612280030145⎦"
      ]
     },
     "metadata": {},
     "output_type": "display_data"
    },
    {
     "data": {
      "text/latex": [
       "$\\displaystyle -2.59259129072784$"
      ],
      "text/plain": [
       "-2.59259129072784"
      ]
     },
     "metadata": {},
     "output_type": "display_data"
    },
    {
     "data": {
      "text/latex": [
       "$\\displaystyle \\left[\\begin{matrix}1.0\\\\-0.703203526214165\\\\0.359810681815918\\\\-0.173807697239505\\\\-0.539606017574505\\end{matrix}\\right]$"
      ],
      "text/plain": [
       "⎡       1.0        ⎤\n",
       "⎢                  ⎥\n",
       "⎢-0.703203526214165⎥\n",
       "⎢                  ⎥\n",
       "⎢0.359810681815918 ⎥\n",
       "⎢                  ⎥\n",
       "⎢-0.173807697239505⎥\n",
       "⎢                  ⎥\n",
       "⎣-0.539606017574505⎦"
      ]
     },
     "metadata": {},
     "output_type": "display_data"
    },
    {
     "data": {
      "text/latex": [
       "$\\displaystyle -2.59264205931079$"
      ],
      "text/plain": [
       "-2.59264205931079"
      ]
     },
     "metadata": {},
     "output_type": "display_data"
    },
    {
     "data": {
      "text/latex": [
       "$\\displaystyle \\left[\\begin{matrix}1.0\\\\-0.703203425079815\\\\0.359807134631068\\\\-0.17381134009136\\\\-0.539604631628233\\end{matrix}\\right]$"
      ],
      "text/plain": [
       "⎡       1.0        ⎤\n",
       "⎢                  ⎥\n",
       "⎢-0.703203425079815⎥\n",
       "⎢                  ⎥\n",
       "⎢0.359807134631068 ⎥\n",
       "⎢                  ⎥\n",
       "⎢-0.17381134009136 ⎥\n",
       "⎢                  ⎥\n",
       "⎣-0.539604631628233⎦"
      ]
     },
     "metadata": {},
     "output_type": "display_data"
    },
    {
     "data": {
      "text/latex": [
       "$\\displaystyle -2.59263927263569$"
      ],
      "text/plain": [
       "-2.59263927263569"
      ]
     },
     "metadata": {},
     "output_type": "display_data"
    },
    {
     "data": {
      "text/latex": [
       "$\\displaystyle \\left[\\begin{matrix}1.0\\\\-0.703203538973424\\\\0.359806901124822\\\\-0.173811572167531\\\\-0.539604471353335\\end{matrix}\\right]$"
      ],
      "text/plain": [
       "⎡       1.0        ⎤\n",
       "⎢                  ⎥\n",
       "⎢-0.703203538973424⎥\n",
       "⎢                  ⎥\n",
       "⎢0.359806901124822 ⎥\n",
       "⎢                  ⎥\n",
       "⎢-0.173811572167531⎥\n",
       "⎢                  ⎥\n",
       "⎣-0.539604471353335⎦"
      ]
     },
     "metadata": {},
     "output_type": "display_data"
    },
    {
     "data": {
      "text/latex": [
       "$\\displaystyle -2.59263824633286$"
      ],
      "text/plain": [
       "-2.59263824633286"
      ]
     },
     "metadata": {},
     "output_type": "display_data"
    },
    {
     "data": {
      "text/latex": [
       "$\\displaystyle \\left[\\begin{matrix}1.0\\\\-0.703203546057785\\\\0.359806891513821\\\\-0.173811598437452\\\\-0.53960446006533\\end{matrix}\\right]$"
      ],
      "text/plain": [
       "⎡       1.0        ⎤\n",
       "⎢                  ⎥\n",
       "⎢-0.703203546057785⎥\n",
       "⎢                  ⎥\n",
       "⎢0.359806891513821 ⎥\n",
       "⎢                  ⎥\n",
       "⎢-0.173811598437452⎥\n",
       "⎢                  ⎥\n",
       "⎣-0.53960446006533 ⎦"
      ]
     },
     "metadata": {},
     "output_type": "display_data"
    },
    {
     "data": {
      "text/latex": [
       "$\\displaystyle -2.59263820448424$"
      ],
      "text/plain": [
       "-2.59263820448424"
      ]
     },
     "metadata": {},
     "output_type": "display_data"
    },
    {
     "data": {
      "text/latex": [
       "$\\displaystyle \\left[\\begin{matrix}1.0\\\\-0.703203545919969\\\\0.35980688938575\\\\-0.173811602247848\\\\-0.539604458955548\\end{matrix}\\right]$"
      ],
      "text/plain": [
       "⎡       1.0        ⎤\n",
       "⎢                  ⎥\n",
       "⎢-0.703203545919969⎥\n",
       "⎢                  ⎥\n",
       "⎢ 0.35980688938575 ⎥\n",
       "⎢                  ⎥\n",
       "⎢-0.173811602247848⎥\n",
       "⎢                  ⎥\n",
       "⎣-0.539604458955548⎦"
      ]
     },
     "metadata": {},
     "output_type": "display_data"
    },
    {
     "data": {
      "text/latex": [
       "$\\displaystyle -2.59263820497931$"
      ],
      "text/plain": [
       "-2.59263820497931"
      ]
     },
     "metadata": {},
     "output_type": "display_data"
    },
    {
     "data": {
      "text/latex": [
       "$\\displaystyle \\left[\\begin{matrix}1.0\\\\-0.703203545948064\\\\0.359806889064635\\\\-0.173811602621292\\\\-0.539604458799194\\end{matrix}\\right]$"
      ],
      "text/plain": [
       "⎡       1.0        ⎤\n",
       "⎢                  ⎥\n",
       "⎢-0.703203545948064⎥\n",
       "⎢                  ⎥\n",
       "⎢0.359806889064635 ⎥\n",
       "⎢                  ⎥\n",
       "⎢-0.173811602621292⎥\n",
       "⎢                  ⎥\n",
       "⎣-0.539604458799194⎦"
      ]
     },
     "metadata": {},
     "output_type": "display_data"
    },
    {
     "data": {
      "text/latex": [
       "$\\displaystyle -2.59263820451093$"
      ],
      "text/plain": [
       "-2.59263820451093"
      ]
     },
     "metadata": {},
     "output_type": "display_data"
    },
    {
     "data": {
      "text/latex": [
       "$\\displaystyle \\left[\\begin{matrix}1.0\\\\-0.70320354595709\\\\0.359806889040235\\\\-0.173811602652575\\\\-0.539604458782719\\end{matrix}\\right]$"
      ],
      "text/plain": [
       "⎡       1.0        ⎤\n",
       "⎢                  ⎥\n",
       "⎢-0.70320354595709 ⎥\n",
       "⎢                  ⎥\n",
       "⎢0.359806889040235 ⎥\n",
       "⎢                  ⎥\n",
       "⎢-0.173811602652575⎥\n",
       "⎢                  ⎥\n",
       "⎣-0.539604458782719⎦"
      ]
     },
     "metadata": {},
     "output_type": "display_data"
    },
    {
     "data": {
      "text/latex": [
       "$\\displaystyle -2.59263820443062$"
      ],
      "text/plain": [
       "-2.59263820443062"
      ]
     },
     "metadata": {},
     "output_type": "display_data"
    },
    {
     "data": {
      "text/latex": [
       "$\\displaystyle \\left[\\begin{matrix}1.0\\\\-0.703203545957669\\\\0.359806889038344\\\\-0.173811602656078\\\\-0.5396044587813\\end{matrix}\\right]$"
      ],
      "text/plain": [
       "⎡       1.0        ⎤\n",
       "⎢                  ⎥\n",
       "⎢-0.703203545957669⎥\n",
       "⎢                  ⎥\n",
       "⎢0.359806889038344 ⎥\n",
       "⎢                  ⎥\n",
       "⎢-0.173811602656078⎥\n",
       "⎢                  ⎥\n",
       "⎣ -0.5396044587813 ⎦"
      ]
     },
     "metadata": {},
     "output_type": "display_data"
    },
    {
     "data": {
      "text/latex": [
       "$\\displaystyle -2.59263820442632$"
      ],
      "text/plain": [
       "-2.59263820442632"
      ]
     },
     "metadata": {},
     "output_type": "display_data"
    },
    {
     "data": {
      "text/latex": [
       "$\\displaystyle \\left[\\begin{matrix}1.0\\\\-0.703203545957688\\\\0.359806889038074\\\\-0.173811602656498\\\\-0.539604458781151\\end{matrix}\\right]$"
      ],
      "text/plain": [
       "⎡       1.0        ⎤\n",
       "⎢                  ⎥\n",
       "⎢-0.703203545957688⎥\n",
       "⎢                  ⎥\n",
       "⎢0.359806889038074 ⎥\n",
       "⎢                  ⎥\n",
       "⎢-0.173811602656498⎥\n",
       "⎢                  ⎥\n",
       "⎣-0.539604458781151⎦"
      ]
     },
     "metadata": {},
     "output_type": "display_data"
    },
    {
     "data": {
      "text/latex": [
       "$\\displaystyle -2.59263820442607$"
      ],
      "text/plain": [
       "-2.59263820442607"
      ]
     },
     "metadata": {},
     "output_type": "display_data"
    },
    {
     "data": {
      "text/latex": [
       "$\\displaystyle \\left[\\begin{matrix}1.0\\\\-0.703203545957692\\\\0.359806889038042\\\\-0.173811602656539\\\\-0.539604458781133\\end{matrix}\\right]$"
      ],
      "text/plain": [
       "⎡       1.0        ⎤\n",
       "⎢                  ⎥\n",
       "⎢-0.703203545957692⎥\n",
       "⎢                  ⎥\n",
       "⎢0.359806889038042 ⎥\n",
       "⎢                  ⎥\n",
       "⎢-0.173811602656539⎥\n",
       "⎢                  ⎥\n",
       "⎣-0.539604458781133⎦"
      ]
     },
     "metadata": {},
     "output_type": "display_data"
    },
    {
     "data": {
      "text/latex": [
       "$\\displaystyle -2.59263820442602$"
      ],
      "text/plain": [
       "-2.59263820442602"
      ]
     },
     "metadata": {},
     "output_type": "display_data"
    },
    {
     "data": {
      "text/latex": [
       "$\\displaystyle \\left[\\begin{matrix}1.0\\\\-0.703203545957693\\\\0.359806889038039\\\\-0.173811602656543\\\\-0.539604458781131\\end{matrix}\\right]$"
      ],
      "text/plain": [
       "⎡       1.0        ⎤\n",
       "⎢                  ⎥\n",
       "⎢-0.703203545957693⎥\n",
       "⎢                  ⎥\n",
       "⎢0.359806889038039 ⎥\n",
       "⎢                  ⎥\n",
       "⎢-0.173811602656543⎥\n",
       "⎢                  ⎥\n",
       "⎣-0.539604458781131⎦"
      ]
     },
     "metadata": {},
     "output_type": "display_data"
    },
    {
     "data": {
      "text/latex": [
       "$\\displaystyle -2.59263820442601$"
      ],
      "text/plain": [
       "-2.59263820442601"
      ]
     },
     "metadata": {},
     "output_type": "display_data"
    },
    {
     "data": {
      "text/latex": [
       "$\\displaystyle \\left[\\begin{matrix}1.0\\\\-0.703203545957693\\\\0.359806889038039\\\\-0.173811602656544\\\\-0.539604458781131\\end{matrix}\\right]$"
      ],
      "text/plain": [
       "⎡       1.0        ⎤\n",
       "⎢                  ⎥\n",
       "⎢-0.703203545957693⎥\n",
       "⎢                  ⎥\n",
       "⎢0.359806889038039 ⎥\n",
       "⎢                  ⎥\n",
       "⎢-0.173811602656544⎥\n",
       "⎢                  ⎥\n",
       "⎣-0.539604458781131⎦"
      ]
     },
     "metadata": {},
     "output_type": "display_data"
    },
    {
     "data": {
      "text/latex": [
       "$\\displaystyle -2.59263820442601$"
      ],
      "text/plain": [
       "-2.59263820442601"
      ]
     },
     "metadata": {},
     "output_type": "display_data"
    },
    {
     "data": {
      "text/latex": [
       "$\\displaystyle \\left[\\begin{matrix}1.0\\\\-0.703203545957693\\\\0.359806889038039\\\\-0.173811602656544\\\\-0.539604458781131\\end{matrix}\\right]$"
      ],
      "text/plain": [
       "⎡       1.0        ⎤\n",
       "⎢                  ⎥\n",
       "⎢-0.703203545957693⎥\n",
       "⎢                  ⎥\n",
       "⎢0.359806889038039 ⎥\n",
       "⎢                  ⎥\n",
       "⎢-0.173811602656544⎥\n",
       "⎢                  ⎥\n",
       "⎣-0.539604458781131⎦"
      ]
     },
     "metadata": {},
     "output_type": "display_data"
    },
    {
     "data": {
      "text/latex": [
       "$\\displaystyle -2.59263820442601$"
      ],
      "text/plain": [
       "-2.59263820442601"
      ]
     },
     "metadata": {},
     "output_type": "display_data"
    },
    {
     "data": {
      "text/latex": [
       "$\\displaystyle \\left[\\begin{matrix}1.0\\\\-0.703203545957693\\\\0.359806889038039\\\\-0.173811602656544\\\\-0.539604458781131\\end{matrix}\\right]$"
      ],
      "text/plain": [
       "⎡       1.0        ⎤\n",
       "⎢                  ⎥\n",
       "⎢-0.703203545957693⎥\n",
       "⎢                  ⎥\n",
       "⎢0.359806889038039 ⎥\n",
       "⎢                  ⎥\n",
       "⎢-0.173811602656544⎥\n",
       "⎢                  ⎥\n",
       "⎣-0.539604458781131⎦"
      ]
     },
     "metadata": {},
     "output_type": "display_data"
    },
    {
     "data": {
      "text/latex": [
       "$\\displaystyle -2.59263820442601$"
      ],
      "text/plain": [
       "-2.59263820442601"
      ]
     },
     "metadata": {},
     "output_type": "display_data"
    },
    {
     "data": {
      "text/latex": [
       "$\\displaystyle \\left[\\begin{matrix}1.0\\\\-0.703203545957693\\\\0.359806889038039\\\\-0.173811602656544\\\\-0.539604458781131\\end{matrix}\\right]$"
      ],
      "text/plain": [
       "⎡       1.0        ⎤\n",
       "⎢                  ⎥\n",
       "⎢-0.703203545957693⎥\n",
       "⎢                  ⎥\n",
       "⎢0.359806889038039 ⎥\n",
       "⎢                  ⎥\n",
       "⎢-0.173811602656544⎥\n",
       "⎢                  ⎥\n",
       "⎣-0.539604458781131⎦"
      ]
     },
     "metadata": {},
     "output_type": "display_data"
    },
    {
     "data": {
      "text/latex": [
       "$\\displaystyle -2.59263820442601$"
      ],
      "text/plain": [
       "-2.59263820442601"
      ]
     },
     "metadata": {},
     "output_type": "display_data"
    },
    {
     "data": {
      "text/latex": [
       "$\\displaystyle \\left[\\begin{matrix}1.0\\\\-0.703203545957693\\\\0.359806889038039\\\\-0.173811602656544\\\\-0.539604458781131\\end{matrix}\\right]$"
      ],
      "text/plain": [
       "⎡       1.0        ⎤\n",
       "⎢                  ⎥\n",
       "⎢-0.703203545957693⎥\n",
       "⎢                  ⎥\n",
       "⎢0.359806889038039 ⎥\n",
       "⎢                  ⎥\n",
       "⎢-0.173811602656544⎥\n",
       "⎢                  ⎥\n",
       "⎣-0.539604458781131⎦"
      ]
     },
     "metadata": {},
     "output_type": "display_data"
    },
    {
     "data": {
      "text/latex": [
       "$\\displaystyle -2.59263820442601$"
      ],
      "text/plain": [
       "-2.59263820442601"
      ]
     },
     "metadata": {},
     "output_type": "display_data"
    },
    {
     "data": {
      "text/latex": [
       "$\\displaystyle \\left[\\begin{matrix}1.0\\\\-0.703203545957693\\\\0.359806889038039\\\\-0.173811602656544\\\\-0.539604458781131\\end{matrix}\\right]$"
      ],
      "text/plain": [
       "⎡       1.0        ⎤\n",
       "⎢                  ⎥\n",
       "⎢-0.703203545957693⎥\n",
       "⎢                  ⎥\n",
       "⎢0.359806889038039 ⎥\n",
       "⎢                  ⎥\n",
       "⎢-0.173811602656544⎥\n",
       "⎢                  ⎥\n",
       "⎣-0.539604458781131⎦"
      ]
     },
     "metadata": {},
     "output_type": "display_data"
    },
    {
     "data": {
      "text/latex": [
       "$\\displaystyle -2.59263820442601$"
      ],
      "text/plain": [
       "-2.59263820442601"
      ]
     },
     "metadata": {},
     "output_type": "display_data"
    },
    {
     "data": {
      "text/latex": [
       "$\\displaystyle \\left[\\begin{matrix}1.0\\\\-0.703203545957693\\\\0.359806889038039\\\\-0.173811602656544\\\\-0.539604458781131\\end{matrix}\\right]$"
      ],
      "text/plain": [
       "⎡       1.0        ⎤\n",
       "⎢                  ⎥\n",
       "⎢-0.703203545957693⎥\n",
       "⎢                  ⎥\n",
       "⎢0.359806889038039 ⎥\n",
       "⎢                  ⎥\n",
       "⎢-0.173811602656544⎥\n",
       "⎢                  ⎥\n",
       "⎣-0.539604458781131⎦"
      ]
     },
     "metadata": {},
     "output_type": "display_data"
    },
    {
     "data": {
      "text/latex": [
       "$\\displaystyle -2.59263820442601$"
      ],
      "text/plain": [
       "-2.59263820442601"
      ]
     },
     "metadata": {},
     "output_type": "display_data"
    },
    {
     "data": {
      "text/latex": [
       "$\\displaystyle \\left[\\begin{matrix}1.0\\\\-0.703203545957693\\\\0.359806889038039\\\\-0.173811602656544\\\\-0.539604458781131\\end{matrix}\\right]$"
      ],
      "text/plain": [
       "⎡       1.0        ⎤\n",
       "⎢                  ⎥\n",
       "⎢-0.703203545957693⎥\n",
       "⎢                  ⎥\n",
       "⎢0.359806889038039 ⎥\n",
       "⎢                  ⎥\n",
       "⎢-0.173811602656544⎥\n",
       "⎢                  ⎥\n",
       "⎣-0.539604458781131⎦"
      ]
     },
     "metadata": {},
     "output_type": "display_data"
    },
    {
     "data": {
      "text/latex": [
       "$\\displaystyle -2.59263820442601$"
      ],
      "text/plain": [
       "-2.59263820442601"
      ]
     },
     "metadata": {},
     "output_type": "display_data"
    },
    {
     "data": {
      "text/latex": [
       "$\\displaystyle \\left[\\begin{matrix}1.0\\\\-0.703203545957693\\\\0.359806889038039\\\\-0.173811602656544\\\\-0.539604458781131\\end{matrix}\\right]$"
      ],
      "text/plain": [
       "⎡       1.0        ⎤\n",
       "⎢                  ⎥\n",
       "⎢-0.703203545957693⎥\n",
       "⎢                  ⎥\n",
       "⎢0.359806889038039 ⎥\n",
       "⎢                  ⎥\n",
       "⎢-0.173811602656544⎥\n",
       "⎢                  ⎥\n",
       "⎣-0.539604458781131⎦"
      ]
     },
     "metadata": {},
     "output_type": "display_data"
    },
    {
     "data": {
      "text/latex": [
       "$\\displaystyle -2.59263820442601$"
      ],
      "text/plain": [
       "-2.59263820442601"
      ]
     },
     "metadata": {},
     "output_type": "display_data"
    },
    {
     "data": {
      "text/latex": [
       "$\\displaystyle \\left[\\begin{matrix}1.0\\\\-0.703203545957693\\\\0.359806889038039\\\\-0.173811602656544\\\\-0.539604458781131\\end{matrix}\\right]$"
      ],
      "text/plain": [
       "⎡       1.0        ⎤\n",
       "⎢                  ⎥\n",
       "⎢-0.703203545957693⎥\n",
       "⎢                  ⎥\n",
       "⎢0.359806889038039 ⎥\n",
       "⎢                  ⎥\n",
       "⎢-0.173811602656544⎥\n",
       "⎢                  ⎥\n",
       "⎣-0.539604458781131⎦"
      ]
     },
     "metadata": {},
     "output_type": "display_data"
    },
    {
     "data": {
      "text/latex": [
       "$\\displaystyle -2.59263820442601$"
      ],
      "text/plain": [
       "-2.59263820442601"
      ]
     },
     "metadata": {},
     "output_type": "display_data"
    },
    {
     "data": {
      "text/latex": [
       "$\\displaystyle \\left[\\begin{matrix}1.0\\\\-0.703203545957693\\\\0.359806889038039\\\\-0.173811602656544\\\\-0.539604458781131\\end{matrix}\\right]$"
      ],
      "text/plain": [
       "⎡       1.0        ⎤\n",
       "⎢                  ⎥\n",
       "⎢-0.703203545957693⎥\n",
       "⎢                  ⎥\n",
       "⎢0.359806889038039 ⎥\n",
       "⎢                  ⎥\n",
       "⎢-0.173811602656544⎥\n",
       "⎢                  ⎥\n",
       "⎣-0.539604458781131⎦"
      ]
     },
     "metadata": {},
     "output_type": "display_data"
    },
    {
     "data": {
      "text/latex": [
       "$\\displaystyle -2.59263820442601$"
      ],
      "text/plain": [
       "-2.59263820442601"
      ]
     },
     "metadata": {},
     "output_type": "display_data"
    },
    {
     "data": {
      "text/latex": [
       "$\\displaystyle \\left[\\begin{matrix}1.0\\\\-0.703203545957693\\\\0.359806889038039\\\\-0.173811602656544\\\\-0.539604458781131\\end{matrix}\\right]$"
      ],
      "text/plain": [
       "⎡       1.0        ⎤\n",
       "⎢                  ⎥\n",
       "⎢-0.703203545957693⎥\n",
       "⎢                  ⎥\n",
       "⎢0.359806889038039 ⎥\n",
       "⎢                  ⎥\n",
       "⎢-0.173811602656544⎥\n",
       "⎢                  ⎥\n",
       "⎣-0.539604458781131⎦"
      ]
     },
     "metadata": {},
     "output_type": "display_data"
    },
    {
     "data": {
      "text/latex": [
       "$\\displaystyle -2.59263820442601$"
      ],
      "text/plain": [
       "-2.59263820442601"
      ]
     },
     "metadata": {},
     "output_type": "display_data"
    },
    {
     "data": {
      "text/latex": [
       "$\\displaystyle \\left[\\begin{matrix}1.0\\\\-0.703203545957693\\\\0.359806889038039\\\\-0.173811602656544\\\\-0.539604458781131\\end{matrix}\\right]$"
      ],
      "text/plain": [
       "⎡       1.0        ⎤\n",
       "⎢                  ⎥\n",
       "⎢-0.703203545957693⎥\n",
       "⎢                  ⎥\n",
       "⎢0.359806889038039 ⎥\n",
       "⎢                  ⎥\n",
       "⎢-0.173811602656544⎥\n",
       "⎢                  ⎥\n",
       "⎣-0.539604458781131⎦"
      ]
     },
     "metadata": {},
     "output_type": "display_data"
    },
    {
     "data": {
      "text/latex": [
       "$\\displaystyle -2.59263820442601$"
      ],
      "text/plain": [
       "-2.59263820442601"
      ]
     },
     "metadata": {},
     "output_type": "display_data"
    },
    {
     "data": {
      "text/latex": [
       "$\\displaystyle \\left[\\begin{matrix}1.0\\\\-0.703203545957693\\\\0.359806889038039\\\\-0.173811602656544\\\\-0.539604458781131\\end{matrix}\\right]$"
      ],
      "text/plain": [
       "⎡       1.0        ⎤\n",
       "⎢                  ⎥\n",
       "⎢-0.703203545957693⎥\n",
       "⎢                  ⎥\n",
       "⎢0.359806889038039 ⎥\n",
       "⎢                  ⎥\n",
       "⎢-0.173811602656544⎥\n",
       "⎢                  ⎥\n",
       "⎣-0.539604458781131⎦"
      ]
     },
     "metadata": {},
     "output_type": "display_data"
    },
    {
     "data": {
      "text/latex": [
       "$\\displaystyle -2.59263820442601$"
      ],
      "text/plain": [
       "-2.59263820442601"
      ]
     },
     "metadata": {},
     "output_type": "display_data"
    },
    {
     "data": {
      "text/latex": [
       "$\\displaystyle \\left[\\begin{matrix}1.0\\\\-0.703203545957693\\\\0.359806889038039\\\\-0.173811602656544\\\\-0.539604458781131\\end{matrix}\\right]$"
      ],
      "text/plain": [
       "⎡       1.0        ⎤\n",
       "⎢                  ⎥\n",
       "⎢-0.703203545957693⎥\n",
       "⎢                  ⎥\n",
       "⎢0.359806889038039 ⎥\n",
       "⎢                  ⎥\n",
       "⎢-0.173811602656544⎥\n",
       "⎢                  ⎥\n",
       "⎣-0.539604458781131⎦"
      ]
     },
     "metadata": {},
     "output_type": "display_data"
    },
    {
     "data": {
      "text/latex": [
       "$\\displaystyle -2.59263820442601$"
      ],
      "text/plain": [
       "-2.59263820442601"
      ]
     },
     "metadata": {},
     "output_type": "display_data"
    },
    {
     "data": {
      "text/latex": [
       "$\\displaystyle \\left[\\begin{matrix}1.0\\\\-0.703203545957693\\\\0.359806889038039\\\\-0.173811602656544\\\\-0.539604458781131\\end{matrix}\\right]$"
      ],
      "text/plain": [
       "⎡       1.0        ⎤\n",
       "⎢                  ⎥\n",
       "⎢-0.703203545957693⎥\n",
       "⎢                  ⎥\n",
       "⎢0.359806889038039 ⎥\n",
       "⎢                  ⎥\n",
       "⎢-0.173811602656544⎥\n",
       "⎢                  ⎥\n",
       "⎣-0.539604458781131⎦"
      ]
     },
     "metadata": {},
     "output_type": "display_data"
    },
    {
     "data": {
      "text/latex": [
       "$\\displaystyle -2.59263820442601$"
      ],
      "text/plain": [
       "-2.59263820442601"
      ]
     },
     "metadata": {},
     "output_type": "display_data"
    },
    {
     "data": {
      "text/latex": [
       "$\\displaystyle \\left[\\begin{matrix}1.0\\\\-0.703203545957693\\\\0.359806889038039\\\\-0.173811602656544\\\\-0.539604458781131\\end{matrix}\\right]$"
      ],
      "text/plain": [
       "⎡       1.0        ⎤\n",
       "⎢                  ⎥\n",
       "⎢-0.703203545957693⎥\n",
       "⎢                  ⎥\n",
       "⎢0.359806889038039 ⎥\n",
       "⎢                  ⎥\n",
       "⎢-0.173811602656544⎥\n",
       "⎢                  ⎥\n",
       "⎣-0.539604458781131⎦"
      ]
     },
     "metadata": {},
     "output_type": "display_data"
    },
    {
     "data": {
      "text/latex": [
       "$\\displaystyle -2.59263820442601$"
      ],
      "text/plain": [
       "-2.59263820442601"
      ]
     },
     "metadata": {},
     "output_type": "display_data"
    },
    {
     "data": {
      "text/latex": [
       "$\\displaystyle \\left[\\begin{matrix}1.0\\\\-0.703203545957693\\\\0.359806889038039\\\\-0.173811602656544\\\\-0.539604458781131\\end{matrix}\\right]$"
      ],
      "text/plain": [
       "⎡       1.0        ⎤\n",
       "⎢                  ⎥\n",
       "⎢-0.703203545957693⎥\n",
       "⎢                  ⎥\n",
       "⎢0.359806889038039 ⎥\n",
       "⎢                  ⎥\n",
       "⎢-0.173811602656544⎥\n",
       "⎢                  ⎥\n",
       "⎣-0.539604458781131⎦"
      ]
     },
     "metadata": {},
     "output_type": "display_data"
    },
    {
     "data": {
      "text/latex": [
       "$\\displaystyle -2.59263820442601$"
      ],
      "text/plain": [
       "-2.59263820442601"
      ]
     },
     "metadata": {},
     "output_type": "display_data"
    },
    {
     "data": {
      "text/latex": [
       "$\\displaystyle \\left[\\begin{matrix}1.0\\\\-0.703203545957693\\\\0.359806889038039\\\\-0.173811602656544\\\\-0.539604458781131\\end{matrix}\\right]$"
      ],
      "text/plain": [
       "⎡       1.0        ⎤\n",
       "⎢                  ⎥\n",
       "⎢-0.703203545957693⎥\n",
       "⎢                  ⎥\n",
       "⎢0.359806889038039 ⎥\n",
       "⎢                  ⎥\n",
       "⎢-0.173811602656544⎥\n",
       "⎢                  ⎥\n",
       "⎣-0.539604458781131⎦"
      ]
     },
     "metadata": {},
     "output_type": "display_data"
    },
    {
     "data": {
      "text/latex": [
       "$\\displaystyle -2.59263820442601$"
      ],
      "text/plain": [
       "-2.59263820442601"
      ]
     },
     "metadata": {},
     "output_type": "display_data"
    },
    {
     "data": {
      "text/latex": [
       "$\\displaystyle \\left[\\begin{matrix}1.0\\\\-0.703203545957693\\\\0.359806889038039\\\\-0.173811602656544\\\\-0.539604458781131\\end{matrix}\\right]$"
      ],
      "text/plain": [
       "⎡       1.0        ⎤\n",
       "⎢                  ⎥\n",
       "⎢-0.703203545957693⎥\n",
       "⎢                  ⎥\n",
       "⎢0.359806889038039 ⎥\n",
       "⎢                  ⎥\n",
       "⎢-0.173811602656544⎥\n",
       "⎢                  ⎥\n",
       "⎣-0.539604458781131⎦"
      ]
     },
     "metadata": {},
     "output_type": "display_data"
    },
    {
     "data": {
      "text/latex": [
       "$\\displaystyle -2.59263820442601$"
      ],
      "text/plain": [
       "-2.59263820442601"
      ]
     },
     "metadata": {},
     "output_type": "display_data"
    },
    {
     "data": {
      "text/latex": [
       "$\\displaystyle \\left[\\begin{matrix}1.0\\\\-0.703203545957693\\\\0.359806889038039\\\\-0.173811602656544\\\\-0.539604458781131\\end{matrix}\\right]$"
      ],
      "text/plain": [
       "⎡       1.0        ⎤\n",
       "⎢                  ⎥\n",
       "⎢-0.703203545957693⎥\n",
       "⎢                  ⎥\n",
       "⎢0.359806889038039 ⎥\n",
       "⎢                  ⎥\n",
       "⎢-0.173811602656544⎥\n",
       "⎢                  ⎥\n",
       "⎣-0.539604458781131⎦"
      ]
     },
     "metadata": {},
     "output_type": "display_data"
    },
    {
     "data": {
      "text/latex": [
       "$\\displaystyle -2.59263820442601$"
      ],
      "text/plain": [
       "-2.59263820442601"
      ]
     },
     "metadata": {},
     "output_type": "display_data"
    },
    {
     "data": {
      "text/latex": [
       "$\\displaystyle \\left[\\begin{matrix}1.0\\\\-0.703203545957693\\\\0.359806889038039\\\\-0.173811602656544\\\\-0.539604458781131\\end{matrix}\\right]$"
      ],
      "text/plain": [
       "⎡       1.0        ⎤\n",
       "⎢                  ⎥\n",
       "⎢-0.703203545957693⎥\n",
       "⎢                  ⎥\n",
       "⎢0.359806889038039 ⎥\n",
       "⎢                  ⎥\n",
       "⎢-0.173811602656544⎥\n",
       "⎢                  ⎥\n",
       "⎣-0.539604458781131⎦"
      ]
     },
     "metadata": {},
     "output_type": "display_data"
    },
    {
     "data": {
      "text/latex": [
       "$\\displaystyle -2.59263820442601$"
      ],
      "text/plain": [
       "-2.59263820442601"
      ]
     },
     "metadata": {},
     "output_type": "display_data"
    },
    {
     "data": {
      "text/latex": [
       "$\\displaystyle \\left[\\begin{matrix}1.0\\\\-0.703203545957693\\\\0.359806889038039\\\\-0.173811602656544\\\\-0.539604458781131\\end{matrix}\\right]$"
      ],
      "text/plain": [
       "⎡       1.0        ⎤\n",
       "⎢                  ⎥\n",
       "⎢-0.703203545957693⎥\n",
       "⎢                  ⎥\n",
       "⎢0.359806889038039 ⎥\n",
       "⎢                  ⎥\n",
       "⎢-0.173811602656544⎥\n",
       "⎢                  ⎥\n",
       "⎣-0.539604458781131⎦"
      ]
     },
     "metadata": {},
     "output_type": "display_data"
    },
    {
     "data": {
      "text/latex": [
       "$\\displaystyle -2.59263820442601$"
      ],
      "text/plain": [
       "-2.59263820442601"
      ]
     },
     "metadata": {},
     "output_type": "display_data"
    },
    {
     "data": {
      "text/latex": [
       "$\\displaystyle \\left[\\begin{matrix}1.0\\\\-0.703203545957693\\\\0.359806889038039\\\\-0.173811602656544\\\\-0.539604458781131\\end{matrix}\\right]$"
      ],
      "text/plain": [
       "⎡       1.0        ⎤\n",
       "⎢                  ⎥\n",
       "⎢-0.703203545957693⎥\n",
       "⎢                  ⎥\n",
       "⎢0.359806889038039 ⎥\n",
       "⎢                  ⎥\n",
       "⎢-0.173811602656544⎥\n",
       "⎢                  ⎥\n",
       "⎣-0.539604458781131⎦"
      ]
     },
     "metadata": {},
     "output_type": "display_data"
    },
    {
     "data": {
      "text/latex": [
       "$\\displaystyle -2.59263820442601$"
      ],
      "text/plain": [
       "-2.59263820442601"
      ]
     },
     "metadata": {},
     "output_type": "display_data"
    }
   ],
   "source": [
    "# Inverse Power Method\n",
    "alpha=-3\n",
    "xzero=zeros(n,1)\n",
    "xzero[0]=1.0\n",
    "xn=xzero\n",
    "for i in range (0,40):\n",
    "    C=(A-alpha*eye(n)).col_insert(n,xn)\n",
    "    Red=Matrix.rref(C,pivots=false) # red stands for reduced; helps calculate the inverse of A-lambda*(I)\n",
    "    xn=Red[:,n] # takes the last column of Red \n",
    "    #The following is the method of getting eigenvalues from Lay\n",
    "    mu=xn[0]\n",
    "    for i in range (0,n):\n",
    "        if abs(xn[i])>abs(mu):\n",
    "            mu=xn[i]\n",
    "    xn=xn/mu\n",
    "    nu=alpha+1/mu\n",
    "    display(xn)\n",
    "    display(nu)\n",
    "# display(xn)\n",
    "# display(nu)"
   ]
  }
 ],
 "metadata": {
  "kernelspec": {
   "display_name": ".venv",
   "language": "python",
   "name": "python3"
  },
  "language_info": {
   "codemirror_mode": {
    "name": "ipython",
    "version": 3
   },
   "file_extension": ".py",
   "mimetype": "text/x-python",
   "name": "python",
   "nbconvert_exporter": "python",
   "pygments_lexer": "ipython3",
   "version": "3.12.1"
  }
 },
 "nbformat": 4,
 "nbformat_minor": 2
}
