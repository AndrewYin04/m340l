{
 "cells": [
  {
   "cell_type": "markdown",
   "metadata": {},
   "source": [
    "Keep in mind that the actual computation of the answers for least squares is very simple.  A lot of what is going on in this code is archiving the examples from class and graphing them.\n",
    "\n",
    "First, the preamble is a little different from usual.  The extra stuff is to facilitate the graphs.  If you're just out to solve stuff, it's not needed."
   ]
  },
  {
   "cell_type": "code",
   "execution_count": 1,
   "metadata": {},
   "outputs": [],
   "source": [
    "import numpy as np\n",
    "from numpy import linalg\n",
    "from sympy import *\n",
    "import matplotlib.pyplot as plt\n",
    "# %matplotlib inline\n",
    "init_printing(pretty_print=True, use_latex=True)\n",
    "from scipy.linalg import norm\n",
    "\n"
   ]
  },
  {
   "cell_type": "markdown",
   "metadata": {},
   "source": [
    "Next, some simple examples as I did in class.  I have a very basic if statement set up to check to see if the matrix in the normal equations is invertible or not.  Please be aware that it's only set up for the small systems we've done.  You'd need to adjust it for something larger.\n",
    "\n"
   ]
  },
  {
   "cell_type": "code",
   "execution_count": null,
   "metadata": {},
   "outputs": [
    {
     "data": {
      "text/latex": [
       "$\\displaystyle \\left[\\begin{matrix}1 & 3.78\\\\1 & 4.11\\\\1 & 4.39\\\\1 & 4.73\\\\1 & 4.88\\end{matrix}\\right]$"
      ],
      "text/plain": [
       "⎡1  3.78⎤\n",
       "⎢       ⎥\n",
       "⎢1  4.11⎥\n",
       "⎢       ⎥\n",
       "⎢1  4.39⎥\n",
       "⎢       ⎥\n",
       "⎢1  4.73⎥\n",
       "⎢       ⎥\n",
       "⎣1  4.88⎦"
      ]
     },
     "metadata": {},
     "output_type": "display_data"
    },
    {
     "data": {
      "text/latex": [
       "$\\displaystyle \\left[\\begin{matrix}91\\\\98\\\\103\\\\110\\\\112\\end{matrix}\\right]$"
      ],
      "text/plain": [
       "⎡91 ⎤\n",
       "⎢   ⎥\n",
       "⎢98 ⎥\n",
       "⎢   ⎥\n",
       "⎢103⎥\n",
       "⎢   ⎥\n",
       "⎢110⎥\n",
       "⎢   ⎥\n",
       "⎣112⎦"
      ]
     },
     "metadata": {},
     "output_type": "display_data"
    },
    {
     "name": "stdout",
     "output_type": "stream",
     "text": [
      "AA\n"
     ]
    },
    {
     "data": {
      "text/latex": [
       "$\\displaystyle \\left[\\begin{matrix}5 & 21.89\\\\21.89 & 96.6399\\end{matrix}\\right]$"
      ],
      "text/plain": [
       "⎡  5     21.89 ⎤\n",
       "⎢              ⎥\n",
       "⎣21.89  96.6399⎦"
      ]
     },
     "metadata": {},
     "output_type": "display_data"
    },
    {
     "name": "stdout",
     "output_type": "stream",
     "text": [
      "bb\n"
     ]
    },
    {
     "data": {
      "text/latex": [
       "$\\displaystyle \\left[\\begin{matrix}514\\\\2265.79\\end{matrix}\\right]$"
      ],
      "text/plain": [
       "⎡  514  ⎤\n",
       "⎢       ⎥\n",
       "⎣2265.79⎦"
      ]
     },
     "metadata": {},
     "output_type": "display_data"
    },
    {
     "name": "stdout",
     "output_type": "stream",
     "text": [
      "xhat\n"
     ]
    },
    {
     "data": {
      "text/latex": [
       "$\\displaystyle \\left[\\begin{matrix}18.5642101604027\\\\19.2407011968016\\end{matrix}\\right]$"
      ],
      "text/plain": [
       "⎡18.5642101604027⎤\n",
       "⎢                ⎥\n",
       "⎣19.2407011968016⎦"
      ]
     },
     "metadata": {},
     "output_type": "display_data"
    },
    {
     "name": "stdout",
     "output_type": "stream",
     "text": [
      "xhat.evalf()\n"
     ]
    },
    {
     "data": {
      "text/latex": [
       "$\\displaystyle \\left[\\begin{matrix}18.5642101604027\\\\19.2407011968016\\end{matrix}\\right]$"
      ],
      "text/plain": [
       "⎡18.5642101604027⎤\n",
       "⎢                ⎥\n",
       "⎣19.2407011968016⎦"
      ]
     },
     "metadata": {},
     "output_type": "display_data"
    },
    {
     "name": "stdout",
     "output_type": "stream",
     "text": [
      "A*xhat\n"
     ]
    },
    {
     "data": {
      "text/latex": [
       "$\\displaystyle \\left[\\begin{matrix}91.2940606843127\\\\97.6434920792572\\\\103.030888414362\\\\109.572726821274\\\\112.458832000794\\end{matrix}\\right]$"
      ],
      "text/plain": [
       "⎡91.2940606843127⎤\n",
       "⎢                ⎥\n",
       "⎢97.6434920792572⎥\n",
       "⎢                ⎥\n",
       "⎢103.030888414362⎥\n",
       "⎢                ⎥\n",
       "⎢109.572726821274⎥\n",
       "⎢                ⎥\n",
       "⎣112.458832000794⎦"
      ]
     },
     "metadata": {},
     "output_type": "display_data"
    },
    {
     "name": "stdout",
     "output_type": "stream",
     "text": [
      "error\n"
     ]
    },
    {
     "data": {
      "image/png": "[encoded data removed]",
      "text/latex": [
       "$\\displaystyle 0.779495254612901$"
      ],
      "text/plain": [
       "0.779495254612901"
      ]
     },
     "metadata": {},
     "output_type": "display_data"
    }
   ],
   "source": [
    "#A = Matrix([[1,-1],[0,2],[2,-1]])\n",
    "#b = Matrix([[3],[-1],[2]])\n",
    "# A = Matrix([[1,2],[-2,-4],[1,2]])\n",
    "# b = Matrix(3,1,[1,1,3])\n",
    "A = Matrix(5,2,[1,3.78,1,4.11,1,4.39,1,4.73,1,4.88])\n",
    "b = Matrix(5,1,[91,98,103,110,112])\n",
    "display(A)\n",
    "display(b)\n",
    "AA = A.T*A\n",
    "print(\"AA\")\n",
    "display(AA)\n",
    "bb = A.T*b\n",
    "print(\"bb\")\n",
    "display(bb)\n",
    "if AA.det() != 0:\n",
    "    xhat=AA.solve(bb,method='GJ')\n",
    "    print(\"xhat\")\n",
    "    display(xhat)\n",
    "    print(\"xhat.evalf()\")\n",
    "    display(xhat.evalf())\n",
    "    print(\"A*xhat\")\n",
    "    display(A*xhat)\n",
    "    print(\"error\")\n",
    "    display((b-A*xhat).norm())\n",
    "    A.solve_least_squares(b)\n",
    "else:\n",
    "    C = AA.col_insert(4,bb)\n",
    "    display(C)\n",
    "    display(Matrix.rref(C,pivots=false))\n",
    "\n"
   ]
  },
  {
   "cell_type": "markdown",
   "metadata": {},
   "source": [
    "Next, I set up the points that I fit to a line, and then a quadratic.  Normally I would just edit the code I've got to adjust which it's doing, but since I want to graph them both on the same figure, I need them both hanging around.  Not saying this is the most efficient way to do this, but it works.\n",
    "\n"
   ]
  },
  {
   "cell_type": "code",
   "execution_count": 5,
   "metadata": {},
   "outputs": [
    {
     "data": {
      "text/latex": [
       "$\\displaystyle \\left[\\begin{matrix}1 & 1\\\\1 & 2\\\\1 & 3\\\\1 & 4\\\\1 & 5\\end{matrix}\\right]$"
      ],
      "text/plain": [
       "⎡1  1⎤\n",
       "⎢    ⎥\n",
       "⎢1  2⎥\n",
       "⎢    ⎥\n",
       "⎢1  3⎥\n",
       "⎢    ⎥\n",
       "⎢1  4⎥\n",
       "⎢    ⎥\n",
       "⎣1  5⎦"
      ]
     },
     "metadata": {},
     "output_type": "display_data"
    },
    {
     "data": {
      "text/latex": [
       "$\\displaystyle \\left[\\begin{matrix}1\\\\1.5\\\\3\\\\4.5\\\\7\\end{matrix}\\right]$"
      ],
      "text/plain": [
       "⎡ 1 ⎤\n",
       "⎢   ⎥\n",
       "⎢1.5⎥\n",
       "⎢   ⎥\n",
       "⎢ 3 ⎥\n",
       "⎢   ⎥\n",
       "⎢4.5⎥\n",
       "⎢   ⎥\n",
       "⎣ 7 ⎦"
      ]
     },
     "metadata": {},
     "output_type": "display_data"
    },
    {
     "data": {
      "text/latex": [
       "$\\displaystyle \\left[\\begin{matrix}5 & 15\\\\15 & 55\\end{matrix}\\right]$"
      ],
      "text/plain": [
       "⎡5   15⎤\n",
       "⎢      ⎥\n",
       "⎣15  55⎦"
      ]
     },
     "metadata": {},
     "output_type": "display_data"
    },
    {
     "data": {
      "text/latex": [
       "$\\displaystyle \\left[\\begin{matrix}17.0\\\\66.0\\end{matrix}\\right]$"
      ],
      "text/plain": [
       "⎡17.0⎤\n",
       "⎢    ⎥\n",
       "⎣66.0⎦"
      ]
     },
     "metadata": {},
     "output_type": "display_data"
    },
    {
     "data": {
      "text/latex": [
       "$\\displaystyle \\left[\\begin{matrix}-1.1\\\\1.5\\end{matrix}\\right]$"
      ],
      "text/plain": [
       "⎡-1.1⎤\n",
       "⎢    ⎥\n",
       "⎣1.5 ⎦"
      ]
     },
     "metadata": {},
     "output_type": "display_data"
    },
    {
     "data": {
      "image/png": "[encoded data removed]",
      "text/latex": [
       "$\\displaystyle 1.09544511501033$"
      ],
      "text/plain": [
       "1.09544511501033"
      ]
     },
     "metadata": {},
     "output_type": "display_data"
    },
    {
     "data": {
      "text/latex": [
       "$\\displaystyle \\left[\\begin{matrix}1 & 1 & 1\\\\1 & 2 & 4\\\\1 & 3 & 9\\\\1 & 4 & 16\\\\1 & 5 & 25\\end{matrix}\\right]$"
      ],
      "text/plain": [
       "⎡1  1  1 ⎤\n",
       "⎢        ⎥\n",
       "⎢1  2  4 ⎥\n",
       "⎢        ⎥\n",
       "⎢1  3  9 ⎥\n",
       "⎢        ⎥\n",
       "⎢1  4  16⎥\n",
       "⎢        ⎥\n",
       "⎣1  5  25⎦"
      ]
     },
     "metadata": {},
     "output_type": "display_data"
    },
    {
     "data": {
      "text/latex": [
       "$\\displaystyle \\left[\\begin{matrix}1\\\\1.5\\\\3\\\\4.5\\\\7\\end{matrix}\\right]$"
      ],
      "text/plain": [
       "⎡ 1 ⎤\n",
       "⎢   ⎥\n",
       "⎢1.5⎥\n",
       "⎢   ⎥\n",
       "⎢ 3 ⎥\n",
       "⎢   ⎥\n",
       "⎢4.5⎥\n",
       "⎢   ⎥\n",
       "⎣ 7 ⎦"
      ]
     },
     "metadata": {},
     "output_type": "display_data"
    },
    {
     "data": {
      "text/latex": [
       "$\\displaystyle \\left[\\begin{matrix}5 & 15 & 55\\\\15 & 55 & 225\\\\55 & 225 & 979\\end{matrix}\\right]$"
      ],
      "text/plain": [
       "⎡5   15   55 ⎤\n",
       "⎢            ⎥\n",
       "⎢15  55   225⎥\n",
       "⎢            ⎥\n",
       "⎣55  225  979⎦"
      ]
     },
     "metadata": {},
     "output_type": "display_data"
    },
    {
     "data": {
      "text/latex": [
       "$\\displaystyle \\left[\\begin{matrix}17.0\\\\66.0\\\\281.0\\end{matrix}\\right]$"
      ],
      "text/plain": [
       "⎡17.0 ⎤\n",
       "⎢     ⎥\n",
       "⎢66.0 ⎥\n",
       "⎢     ⎥\n",
       "⎣281.0⎦"
      ]
     },
     "metadata": {},
     "output_type": "display_data"
    },
    {
     "data": {
      "text/latex": [
       "$\\displaystyle \\left[\\begin{matrix}0.9\\\\-0.2143\\\\0.2857\\end{matrix}\\right]$"
      ],
      "text/plain": [
       "⎡  0.9  ⎤\n",
       "⎢       ⎥\n",
       "⎢-0.2143⎥\n",
       "⎢       ⎥\n",
       "⎣0.2857 ⎦"
      ]
     },
     "metadata": {},
     "output_type": "display_data"
    },
    {
     "data": {
      "image/png": "[encoded data removed]",
      "text/latex": [
       "$\\displaystyle 0.239045721866879$"
      ],
      "text/plain": [
       "0.239045721866879"
      ]
     },
     "metadata": {},
     "output_type": "display_data"
    }
   ],
   "source": [
    "xcoords=Matrix([1,2,3,4,5])\n",
    "ycoords=Matrix([1,1.5,3,4.5,7])\n",
    "\n",
    "A=zeros(5,2)\n",
    "for i in range(0,5):\n",
    "    A[i,0]=1\n",
    "    A[i,1]=xcoords[i]\n",
    "b=ycoords    \n",
    "display(A)\n",
    "display(b)\n",
    "AA = A.T*A\n",
    "display(AA)\n",
    "bb = A.T*b\n",
    "display(bb)\n",
    "xhat=AA.solve(bb,method='GJ')\n",
    "display(xhat.evalf(4))\n",
    "display((A*xhat-b).norm())\n",
    "\n",
    "samples = 1000 # number of samples across range\n",
    "x_min = 0\n",
    "x_max = 5\n",
    "x = np.linspace(x_min, x_max, samples)\n",
    "f1 = xhat[0]+xhat[1]*x\n",
    "\n",
    "A=zeros(5,3)\n",
    "for i in range(0,5):\n",
    "    A[i,0]=1\n",
    "    A[i,1]=xcoords[i]\n",
    "    A[i,2]=xcoords[i]**2\n",
    "b=ycoords    \n",
    "display(A)\n",
    "display(b)\n",
    "AA = A.T*A\n",
    "display(AA)\n",
    "bb = A.T*b\n",
    "display(bb)\n",
    "xhat=AA.solve(bb,method='GJ')\n",
    "display(xhat.evalf(4))\n",
    "display((A*xhat-b).norm())\n",
    "\n",
    "f2 = xhat[0]+xhat[1]*x+xhat[2]*x**2\n",
    "\n"
   ]
  },
  {
   "cell_type": "markdown",
   "metadata": {},
   "source": [
    "Next is the graph.  Nothing too special going on here.  It plots the linear function, the quadratic, and then the individual points.\n",
    "\n"
   ]
  },
  {
   "cell_type": "code",
   "execution_count": null,
   "metadata": {},
   "outputs": [],
   "source": [
    "plt.figure(figsize=(6, 6))\n",
    "plt.plot(x, f1, label=\"Linear Interpolant\")\n",
    "plt.plot(x, f2, label=\"Quadratic Interpolant\")\n",
    "\n",
    "plt.scatter(xcoords, ycoords, label='Set of Points')\n",
    "\n",
    "plt.xlabel(\"$x$\")\n",
    "plt.ylabel(\"$y$\")\n",
    "plt.legend(loc='upper left',prop={'size':10})\n",
    "plt.title('Scatter plot mixed with function')\n",
    "\n",
    "plt.grid(which='major', alpha=0.25)\n",
    "plt.grid(which='minor', alpha=0.0625)\n",
    "plt.minorticks_on()\n",
    "plt.show()\n",
    "\n"
   ]
  },
  {
   "cell_type": "markdown",
   "metadata": {},
   "source": [
    "Next the set of ten points which I approximated with sines and cosines and then a cubic polynomial.  I also briefly changed the cubic to a quintic.  Be aware that if you do that, you also have to change the size of the A matrix when you initiate it.\n",
    "\n"
   ]
  },
  {
   "cell_type": "code",
   "execution_count": null,
   "metadata": {},
   "outputs": [],
   "source": [
    "xcoords=zeros(10,1)\n",
    "for i in range(0,10):\n",
    "    xcoords[i]=1+0.5*i\n",
    "ycoords=Matrix([1.5,3,3.5,3,2,1,-1,-2.5,-3.5,-3.5])\n",
    "\n",
    "A=zeros(10,2)\n",
    "for i in range(0,10):\n",
    "    A[i,0]=cos(xcoords[i])\n",
    "    A[i,1]=sin(xcoords[i])\n",
    "b=ycoords    \n",
    "display(A)\n",
    "display(b)\n",
    "AA = A.T*A\n",
    "display(AA)\n",
    "bb = A.T*b\n",
    "display(bb)\n",
    "xhat=AA.solve(bb,method='GJ')\n",
    "display(xhat.evalf())\n",
    "display(((A*xhat-b).norm()**2).evalf())\n",
    "#A.solve_least_squares(b)\n",
    "\n",
    "samples = 1000 # number of samples across range\n",
    "x_min = 0\n",
    "x_max = 6\n",
    "x = np.linspace(x_min, x_max, samples)\n",
    "f1 = xhat[0]*np.cos(x)+xhat[1]*np.sin(x)\n",
    "\n",
    "A=zeros(10,4)\n",
    "for i in range(0,10):\n",
    "    #A[i,0]=cos(xcoords[i])\n",
    "    #A[i,1]=sin(xcoords[i])\n",
    "    A[i,0]=1\n",
    "    A[i,1]=xcoords[i]\n",
    "    A[i,2]=xcoords[i]**2\n",
    "    A[i,3]=xcoords[i]**3\n",
    "    #A[i,4]=xcoords[i]**4\n",
    "    #A[i,5]=xcoords[i]**5\n",
    "b=ycoords    \n",
    "display(A)\n",
    "display(b)\n",
    "AA = A.T*A\n",
    "display(AA)\n",
    "bb = A.T*b\n",
    "display(bb)\n",
    "xhat=AA.solve(bb,method='GJ')\n",
    "display(xhat.evalf())\n",
    "display(((A*xhat-b).norm()**2).evalf())\n",
    "\n",
    "f2=xhat[0]+xhat[1]*x+xhat[2]*x**2+xhat[3]*x**3#+xhat[4]*x**4+xhat[5]*x**5\n",
    "\n"
   ]
  },
  {
   "cell_type": "markdown",
   "metadata": {},
   "source": [
    "And finally the graph for these points.\n",
    "\n"
   ]
  },
  {
   "cell_type": "code",
   "execution_count": null,
   "metadata": {},
   "outputs": [],
   "source": [
    "plt.figure(figsize=(6, 6))\n",
    "plt.plot(x, f1)\n",
    "plt.plot(x, f2)\n",
    "\n",
    "plt.scatter(xcoords, ycoords, label='Set of Points')\n",
    "\n",
    "plt.xlabel(\"$x$\")\n",
    "plt.ylabel(\"$y$\")\n",
    "plt.legend(loc='upper left',prop={'size':10})\n",
    "\n",
    "plt.grid(which='major', alpha=0.25)\n",
    "plt.grid(which='minor', alpha=0.0625)\n",
    "plt.minorticks_on()\n",
    "plt.show()\n",
    "\n"
   ]
  },
  {
   "cell_type": "markdown",
   "metadata": {},
   "source": [
    "hw problem"
   ]
  },
  {
   "cell_type": "code",
   "execution_count": 19,
   "metadata": {},
   "outputs": [
    {
     "name": "stdout",
     "output_type": "stream",
     "text": [
      "A\n"
     ]
    },
    {
     "data": {
      "text/latex": [
       "$\\displaystyle \\left[\\begin{matrix}4 & 16 & 64\\\\6 & 36 & 216\\\\8 & 64 & 512\\\\10 & 100 & 1000\\\\12 & 144 & 1728\\\\14 & 196 & 2744\\\\16 & 256 & 4096\\\\18 & 324 & 5832\\end{matrix}\\right]$"
      ],
      "text/plain": [
       "⎡4   16    64 ⎤\n",
       "⎢             ⎥\n",
       "⎢6   36   216 ⎥\n",
       "⎢             ⎥\n",
       "⎢8   64   512 ⎥\n",
       "⎢             ⎥\n",
       "⎢10  100  1000⎥\n",
       "⎢             ⎥\n",
       "⎢12  144  1728⎥\n",
       "⎢             ⎥\n",
       "⎢14  196  2744⎥\n",
       "⎢             ⎥\n",
       "⎢16  256  4096⎥\n",
       "⎢             ⎥\n",
       "⎣18  324  5832⎦"
      ]
     },
     "metadata": {},
     "output_type": "display_data"
    },
    {
     "name": "stdout",
     "output_type": "stream",
     "text": [
      "b\n"
     ]
    },
    {
     "data": {
      "text/latex": [
       "$\\displaystyle \\left[\\begin{matrix}1.58\\\\2.08\\\\2.5\\\\2.8\\\\3.1\\\\3.4\\\\3.8\\\\4.32\\end{matrix}\\right]$"
      ],
      "text/plain": [
       "⎡1.58⎤\n",
       "⎢    ⎥\n",
       "⎢2.08⎥\n",
       "⎢    ⎥\n",
       "⎢2.5 ⎥\n",
       "⎢    ⎥\n",
       "⎢2.8 ⎥\n",
       "⎢    ⎥\n",
       "⎢3.1 ⎥\n",
       "⎢    ⎥\n",
       "⎢3.4 ⎥\n",
       "⎢    ⎥\n",
       "⎢3.8 ⎥\n",
       "⎢    ⎥\n",
       "⎣4.32⎦"
      ]
     },
     "metadata": {},
     "output_type": "display_data"
    },
    {
     "name": "stdout",
     "output_type": "stream",
     "text": [
      "AA\n"
     ]
    },
    {
     "data": {
      "text/latex": [
       "$\\displaystyle \\left[\\begin{matrix}1136 & 16192 & 245312\\\\16192 & 245312 & 3866368\\\\245312 & 3866368 & 62617856\\end{matrix}\\right]$"
      ],
      "text/plain": [
       "⎡ 1136    16192    245312 ⎤\n",
       "⎢                         ⎥\n",
       "⎢16192   245312   3866368 ⎥\n",
       "⎢                         ⎥\n",
       "⎣245312  3866368  62617856⎦"
      ]
     },
     "metadata": {},
     "output_type": "display_data"
    },
    {
     "name": "stdout",
     "output_type": "stream",
     "text": [
      "bb\n"
     ]
    },
    {
     "data": {
      "text/latex": [
       "$\\displaystyle \\left[\\begin{matrix}290.16\\\\4025.44\\\\60075.84\\end{matrix}\\right]$"
      ],
      "text/plain": [
       "⎡ 290.16 ⎤\n",
       "⎢        ⎥\n",
       "⎢4025.44 ⎥\n",
       "⎢        ⎥\n",
       "⎣60075.84⎦"
      ]
     },
     "metadata": {},
     "output_type": "display_data"
    },
    {
     "name": "stdout",
     "output_type": "stream",
     "text": [
      "xhat\n"
     ]
    },
    {
     "data": {
      "text/latex": [
       "$\\displaystyle \\left[\\begin{matrix}0.5132\\\\-0.03348\\\\0.001016\\end{matrix}\\right]$"
      ],
      "text/plain": [
       "⎡ 0.5132 ⎤\n",
       "⎢        ⎥\n",
       "⎢-0.03348⎥\n",
       "⎢        ⎥\n",
       "⎣0.001016⎦"
      ]
     },
     "metadata": {},
     "output_type": "display_data"
    },
    {
     "name": "stdout",
     "output_type": "stream",
     "text": [
      "error\n"
     ]
    },
    {
     "data": {
      "image/png": "[encoded data removed]",
      "text/latex": [
       "$\\displaystyle 0.0256220138677148$"
      ],
      "text/plain": [
       "0.0256220138677148"
      ]
     },
     "metadata": {},
     "output_type": "display_data"
    },
    {
     "data": {
      "image/png": "[encoded data removed]",
      "text/plain": [
       "<Figure size 600x600 with 1 Axes>"
      ]
     },
     "metadata": {},
     "output_type": "display_data"
    }
   ],
   "source": [
    "xcoords=Matrix([4,6,8,10,12,14,16,18])\n",
    "ycoords=Matrix(8, 1,[1.58,2.08,2.5,2.8,3.1,3.4,3.8,4.32])\n",
    "\n",
    "A=zeros(8,3)\n",
    "for i in range(0,8):\n",
    "    A[i,0]=xcoords[i]\n",
    "    A[i,1]=xcoords[i]**2\n",
    "    A[i,2]=xcoords[i]**3\n",
    "b=ycoords\n",
    "print(\"A\")\n",
    "display(A)\n",
    "print(\"b\")\n",
    "display(b)\n",
    "AA = A.T*A\n",
    "print(\"AA\")\n",
    "display(AA)\n",
    "bb = A.T*b\n",
    "print(\"bb\")\n",
    "display(bb)\n",
    "xhat=AA.solve(bb,method='GJ')\n",
    "print(\"xhat\")\n",
    "display(xhat.evalf(4))\n",
    "print(\"error\")\n",
    "display((A*xhat-b).norm())\n",
    "\n",
    "samples = 10000 # number of samples across range\n",
    "x_min = 0\n",
    "x_max = 19\n",
    "x = np.linspace(x_min, x_max, samples)\n",
    "f1 = xhat[0]*x+xhat[1]*x**2+xhat[2]*x**3\n",
    "\n",
    "# A=zeros(5,3)\n",
    "# for i in range(0,5):\n",
    "#     A[i,0]=1\n",
    "#     A[i,1]=xcoords[i]\n",
    "#     A[i,2]=xcoords[i]**2\n",
    "# b=ycoords    \n",
    "# display(A)\n",
    "# display(b)\n",
    "# AA = A.T*A\n",
    "# display(AA)\n",
    "# bb = A.T*b\n",
    "# display(bb)\n",
    "# xhat=AA.solve(bb,method='GJ')\n",
    "# display(xhat.evalf(4))\n",
    "# display((A*xhat-b).norm())\n",
    "\n",
    "# f2 = xhat[0]+xhat[1]*x+xhat[2]*x**2\n",
    "\n",
    "plt.figure(figsize=(6, 6))\n",
    "plt.plot(x, f1, label=\"Interpolant\")\n",
    "# plt.plot(x, f2, label=\"Quadratic Interpolant\")\n",
    "\n",
    "plt.scatter(xcoords, ycoords, label='Set of Points')\n",
    "\n",
    "plt.xlabel(\"$x$\")\n",
    "plt.ylabel(\"$y$\")\n",
    "plt.legend(loc='upper left',prop={'size':10})\n",
    "plt.title('Scatter plot mixed with function')\n",
    "\n",
    "plt.grid(which='major', alpha=0.25)\n",
    "plt.grid(which='minor', alpha=0.0625)\n",
    "plt.minorticks_on()\n",
    "plt.show()"
   ]
  },
  {
   "cell_type": "code",
   "execution_count": null,
   "metadata": {},
   "outputs": [],
   "source": []
  }
 ],
 "metadata": {
  "kernelspec": {
   "display_name": ".venv",
   "language": "python",
   "name": "python3"
  },
  "language_info": {
   "codemirror_mode": {
    "name": "ipython",
    "version": 3
   },
   "file_extension": ".py",
   "mimetype": "text/x-python",
   "name": "python",
   "nbconvert_exporter": "python",
   "pygments_lexer": "ipython3",
   "version": "3.11.9"
  }
 },
 "nbformat": 4,
 "nbformat_minor": 2
}
